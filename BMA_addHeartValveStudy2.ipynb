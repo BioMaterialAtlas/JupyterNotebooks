{
 "cells": [
  {
   "cell_type": "markdown",
   "metadata": {},
   "source": [
    "<h3> Biomaterial Atlas: add a heart valve study </h3>"
   ]
  },
  {
   "cell_type": "markdown",
   "metadata": {},
   "source": [
    "<p> This Jupyter notebook will guide you through the metadata fields of the Data Document Model (DDM) for a heart valve study. </p>\n",
    "\n",
    "<p> Every keyword will be given a value based on your input. In this Jupyter Notebook, you have to evaluate a cell before you can type a value. In this way, you can always rerun a cell if you believe there are some spelling errors or general mistakes.<p>"
   ]
  },
  {
   "cell_type": "markdown",
   "metadata": {},
   "source": [
    "<h3> Metadata: Project level </h3>"
   ]
  },
  {
   "cell_type": "code",
   "execution_count": 95,
   "metadata": {},
   "outputs": [],
   "source": [
    "Study_type = 'Heart valve study'"
   ]
  },
  {
   "cell_type": "code",
   "execution_count": 131,
   "metadata": {},
   "outputs": [
    {
     "ename": "KeyboardInterrupt",
     "evalue": "Interrupted by user",
     "output_type": "error",
     "traceback": [
      "\u001b[1;31m---------------------------------------------------------------------------\u001b[0m",
      "\u001b[1;31mKeyboardInterrupt\u001b[0m                         Traceback (most recent call last)",
      "\u001b[1;32m<ipython-input-131-11b467167115>\u001b[0m in \u001b[0;36m<module>\u001b[1;34m\u001b[0m\n\u001b[1;32m----> 1\u001b[1;33m \u001b[0mID\u001b[0m \u001b[1;33m=\u001b[0m \u001b[0minput\u001b[0m\u001b[1;33m(\u001b[0m\u001b[1;34m'Provide the study ID: '\u001b[0m\u001b[1;33m)\u001b[0m\u001b[1;33m\u001b[0m\u001b[1;33m\u001b[0m\u001b[0m\n\u001b[0m",
      "\u001b[1;32m~\\Anaconda3\\envs\\TopoChipScreen\\lib\\site-packages\\ipykernel\\kernelbase.py\u001b[0m in \u001b[0;36mraw_input\u001b[1;34m(self, prompt)\u001b[0m\n\u001b[0;32m    858\u001b[0m                 \u001b[1;34m\"raw_input was called, but this frontend does not support input requests.\"\u001b[0m\u001b[1;33m\u001b[0m\u001b[1;33m\u001b[0m\u001b[0m\n\u001b[0;32m    859\u001b[0m             )\n\u001b[1;32m--> 860\u001b[1;33m         return self._input_request(str(prompt),\n\u001b[0m\u001b[0;32m    861\u001b[0m             \u001b[0mself\u001b[0m\u001b[1;33m.\u001b[0m\u001b[0m_parent_ident\u001b[0m\u001b[1;33m,\u001b[0m\u001b[1;33m\u001b[0m\u001b[1;33m\u001b[0m\u001b[0m\n\u001b[0;32m    862\u001b[0m             \u001b[0mself\u001b[0m\u001b[1;33m.\u001b[0m\u001b[0m_parent_header\u001b[0m\u001b[1;33m,\u001b[0m\u001b[1;33m\u001b[0m\u001b[1;33m\u001b[0m\u001b[0m\n",
      "\u001b[1;32m~\\Anaconda3\\envs\\TopoChipScreen\\lib\\site-packages\\ipykernel\\kernelbase.py\u001b[0m in \u001b[0;36m_input_request\u001b[1;34m(self, prompt, ident, parent, password)\u001b[0m\n\u001b[0;32m    902\u001b[0m             \u001b[1;32mexcept\u001b[0m \u001b[0mKeyboardInterrupt\u001b[0m\u001b[1;33m:\u001b[0m\u001b[1;33m\u001b[0m\u001b[1;33m\u001b[0m\u001b[0m\n\u001b[0;32m    903\u001b[0m                 \u001b[1;31m# re-raise KeyboardInterrupt, to truncate traceback\u001b[0m\u001b[1;33m\u001b[0m\u001b[1;33m\u001b[0m\u001b[1;33m\u001b[0m\u001b[0m\n\u001b[1;32m--> 904\u001b[1;33m                 \u001b[1;32mraise\u001b[0m \u001b[0mKeyboardInterrupt\u001b[0m\u001b[1;33m(\u001b[0m\u001b[1;34m\"Interrupted by user\"\u001b[0m\u001b[1;33m)\u001b[0m \u001b[1;32mfrom\u001b[0m \u001b[1;32mNone\u001b[0m\u001b[1;33m\u001b[0m\u001b[1;33m\u001b[0m\u001b[0m\n\u001b[0m\u001b[0;32m    905\u001b[0m             \u001b[1;32mexcept\u001b[0m \u001b[0mException\u001b[0m \u001b[1;32mas\u001b[0m \u001b[0me\u001b[0m\u001b[1;33m:\u001b[0m\u001b[1;33m\u001b[0m\u001b[1;33m\u001b[0m\u001b[0m\n\u001b[0;32m    906\u001b[0m                 \u001b[0mself\u001b[0m\u001b[1;33m.\u001b[0m\u001b[0mlog\u001b[0m\u001b[1;33m.\u001b[0m\u001b[0mwarning\u001b[0m\u001b[1;33m(\u001b[0m\u001b[1;34m\"Invalid Message:\"\u001b[0m\u001b[1;33m,\u001b[0m \u001b[0mexc_info\u001b[0m\u001b[1;33m=\u001b[0m\u001b[1;32mTrue\u001b[0m\u001b[1;33m)\u001b[0m\u001b[1;33m\u001b[0m\u001b[1;33m\u001b[0m\u001b[0m\n",
      "\u001b[1;31mKeyboardInterrupt\u001b[0m: Interrupted by user"
     ]
    }
   ],
   "source": [
    "ID = input('Provide the study ID: ')"
   ]
  },
  {
   "cell_type": "code",
   "execution_count": 97,
   "metadata": {},
   "outputs": [
    {
     "name": "stdout",
     "output_type": "stream",
     "text": [
      "Provide  the study name (max 5 keywords): Living tissue-engineered heart valves\n"
     ]
    }
   ],
   "source": [
    "Study_Name=input('Provide  the study name (max 5 keywords): ')"
   ]
  },
  {
   "cell_type": "code",
   "execution_count": 99,
   "metadata": {},
   "outputs": [
    {
     "name": "stdout",
     "output_type": "stream",
     "text": [
      "Provide the project name: TEHVs\n"
     ]
    }
   ],
   "source": [
    "Project=input(\"Provide the project name: \")"
   ]
  },
  {
   "cell_type": "code",
   "execution_count": 5,
   "metadata": {},
   "outputs": [
    {
     "name": "stdout",
     "output_type": "stream",
     "text": [
      "Provide the title of the study (publication title if applicable): Trans-apical versus surgical implantation of autologous ovine tissue-engineered heart valves.\n"
     ]
    }
   ],
   "source": [
    "Title=input(\"Provide the title of the study (publication title if applicable): \")"
   ]
  },
  {
   "cell_type": "code",
   "execution_count": 6,
   "metadata": {},
   "outputs": [
    {
     "name": "stdout",
     "output_type": "stream",
     "text": [
      "Provide  the first and last name of the lead author: Petra E. Dijkman\n"
     ]
    }
   ],
   "source": [
    "Lead_author=input(\"Provide  the first and last name of the lead author: \")"
   ]
  },
  {
   "cell_type": "code",
   "execution_count": 7,
   "metadata": {},
   "outputs": [
    {
     "name": "stdout",
     "output_type": "stream",
     "text": [
      "Provide  the first and last name of the PI: Simon P. Hoerstrup \n"
     ]
    }
   ],
   "source": [
    "Principal_investigator=input(\"Provide  the first and last name of the PI: \")"
   ]
  },
  {
   "cell_type": "code",
   "execution_count": 8,
   "metadata": {},
   "outputs": [
    {
     "name": "stdout",
     "output_type": "stream",
     "text": [
      "Provide  the DOI: (if not applicable type N/A): PMID: 23167234\n"
     ]
    }
   ],
   "source": [
    "DOI=input(\"Provide  the DOI: (if not applicable type N/A): \")"
   ]
  },
  {
   "cell_type": "code",
   "execution_count": 9,
   "metadata": {},
   "outputs": [
    {
     "name": "stdout",
     "output_type": "stream",
     "text": [
      "Provide the date of the study: September 2012\n"
     ]
    }
   ],
   "source": [
    "Date=input(\"Provide the date of the study: \")"
   ]
  },
  {
   "cell_type": "code",
   "execution_count": 10,
   "metadata": {},
   "outputs": [
    {
     "name": "stdout",
     "output_type": "stream",
     "text": [
      "Provide  the summary of the study: Living tissue-engineered heart valves (TEHVs) based on rapidly degrading scaffolds and autologous cells might overcome the limitations of today's valve substitutes. Following minimally invasive trans-apical implantation into an ovine model, TEHVs showed adequate in-vivo functionality, but a thickening of the leaflets was observed. In order to evaluate the impact of the substantial tissue deformations of TEHVs associated with the crimping procedure during minimally invasive delivery, trans-apical and conventional implantation technologies were compared in an ovine model.This direct comparison of trans-apical and conventional surgical implantation techniques showed that crimping had no adverse effect on the integrity or functional outcome of TEHVs. This suggests that a thickening of TEHVs in vivo is neither caused by nor enhanced by the crimping procedure, but represents a functional tissue remodeling process.\n"
     ]
    }
   ],
   "source": [
    "Summary=input(\"Provide  the summary of the study: \")"
   ]
  },
  {
   "cell_type": "markdown",
   "metadata": {},
   "source": [
    "<h3> Metadata: Study design level </h3>"
   ]
  },
  {
   "cell_type": "markdown",
   "metadata": {},
   "source": [
    "<h5> Implantation in  animal model </h5>"
   ]
  },
  {
   "cell_type": "code",
   "execution_count": 11,
   "metadata": {},
   "outputs": [
    {
     "name": "stdout",
     "output_type": "stream",
     "text": [
      "Are the TEHVs implantated in  an animal model: (Yes/No) Yes\n"
     ]
    }
   ],
   "source": [
    "implantation_performed = input(\"Are the TEHVs implantated in  an animal model: (Yes/No) \")"
   ]
  },
  {
   "cell_type": "code",
   "execution_count": 100,
   "metadata": {},
   "outputs": [
    {
     "name": "stdout",
     "output_type": "stream",
     "text": [
      "Provide the implantation method: Minimally invasive implantation\n"
     ]
    }
   ],
   "source": [
    "implantation_method = input(\"Provide the implantation method: \") "
   ]
  },
  {
   "cell_type": "code",
   "execution_count": 101,
   "metadata": {},
   "outputs": [
    {
     "name": "stdout",
     "output_type": "stream",
     "text": [
      "Provide the implantation procedure: Transapical\n"
     ]
    }
   ],
   "source": [
    "implantation_method_procedure = input(\"Provide the implantation procedure: \")"
   ]
  },
  {
   "cell_type": "code",
   "execution_count": 15,
   "metadata": {},
   "outputs": [
    {
     "name": "stdout",
     "output_type": "stream",
     "text": [
      "Provide the implantation location: Pulmonary position\n"
     ]
    }
   ],
   "source": [
    "implantation_location = input(\"Provide the implantation location: \")"
   ]
  },
  {
   "cell_type": "code",
   "execution_count": 16,
   "metadata": {},
   "outputs": [
    {
     "name": "stdout",
     "output_type": "stream",
     "text": [
      "Provide the name of the scaffold: PGA/P4HB scaffold\n"
     ]
    }
   ],
   "source": [
    "implantation_scaffold = input(\"Provide the name of the scaffold: \")"
   ]
  },
  {
   "cell_type": "code",
   "execution_count": 23,
   "metadata": {},
   "outputs": [
    {
     "name": "stdout",
     "output_type": "stream",
     "text": [
      "Stent is present: (Yes/No): Yes\n"
     ]
    }
   ],
   "source": [
    "implantation_stent_present = input(\"Stent is present: (Yes/No): \")"
   ]
  },
  {
   "cell_type": "code",
   "execution_count": 24,
   "metadata": {},
   "outputs": [
    {
     "name": "stdout",
     "output_type": "stream",
     "text": [
      "Provide the name of the stent: self-expandable stent\n"
     ]
    }
   ],
   "source": [
    "implantation_stent_type = input(\"Provide the name of the stent: \")"
   ]
  },
  {
   "cell_type": "code",
   "execution_count": 19,
   "metadata": {},
   "outputs": [
    {
     "name": "stdout",
     "output_type": "stream",
     "text": [
      "Provide the design class of the stent: (old/new design) Old design\n"
     ]
    }
   ],
   "source": [
    "implantation_design_class = input(\"Provide the design class of the stent: (old/new design) \")"
   ]
  },
  {
   "cell_type": "code",
   "execution_count": 20,
   "metadata": {},
   "outputs": [
    {
     "name": "stdout",
     "output_type": "stream",
     "text": [
      "Provide the organism used for the animal model:  Sheep\n"
     ]
    }
   ],
   "source": [
    "implantation_animal_model = input(\"Provide the organism used for the animal model:  \")"
   ]
  },
  {
   "cell_type": "markdown",
   "metadata": {},
   "source": [
    "<h5> Tissue Engineered heart valve characteristics </h5>"
   ]
  },
  {
   "cell_type": "code",
   "execution_count": 102,
   "metadata": {},
   "outputs": [
    {
     "name": "stdout",
     "output_type": "stream",
     "text": [
      "Did you use Tissue Engineered Heart Valves: (Yes/No) Yes\n"
     ]
    }
   ],
   "source": [
    "tehv_used=input(\"Did you use Tissue Engineered Heart Valves: (Yes/No) \")"
   ]
  },
  {
   "cell_type": "code",
   "execution_count": 103,
   "metadata": {},
   "outputs": [
    {
     "name": "stdout",
     "output_type": "stream",
     "text": [
      "How many samples did you have? 6\n"
     ]
    }
   ],
   "source": [
    "tehv_number_of_samples = input(\"How many samples did you have? \")"
   ]
  },
  {
   "cell_type": "code",
   "execution_count": 25,
   "metadata": {},
   "outputs": [
    {
     "name": "stdout",
     "output_type": "stream",
     "text": [
      "What kind of material is the mesh made of? Poly-glycolic acid/poly-4-hydroxybutyrate\n"
     ]
    }
   ],
   "source": [
    "tehv_material_mesh = input(\"What kind of material is the mesh made of? \")"
   ]
  },
  {
   "cell_type": "code",
   "execution_count": 26,
   "metadata": {},
   "outputs": [
    {
     "name": "stdout",
     "output_type": "stream",
     "text": [
      "Provide the abbreviation of the mesh material? PGA/p4HB\n"
     ]
    }
   ],
   "source": [
    "tehv_material_mesh_abbreviation = input(\"Provide the abbreviation of the mesh material? \")"
   ]
  },
  {
   "cell_type": "code",
   "execution_count": 27,
   "metadata": {},
   "outputs": [
    {
     "name": "stdout",
     "output_type": "stream",
     "text": [
      "What is the tickness of the material (with unit)? N/A\n"
     ]
    }
   ],
   "source": [
    "tehv_material_thickness = input(\"What is the tickness of the material (with unit)? \")"
   ]
  },
  {
   "cell_type": "code",
   "execution_count": 28,
   "metadata": {},
   "outputs": [
    {
     "name": "stdout",
     "output_type": "stream",
     "text": [
      "what is the specific gravity used? N/A\n"
     ]
    }
   ],
   "source": [
    "tehv_specific_gravity = input(\"what is the specific gravity used? \")"
   ]
  },
  {
   "cell_type": "code",
   "execution_count": 29,
   "metadata": {},
   "outputs": [
    {
     "name": "stdout",
     "output_type": "stream",
     "text": [
      "What kind of material coating is used? Fibrin\n"
     ]
    }
   ],
   "source": [
    "tehv_material_coating = input(\"What kind of material coating is used? \")"
   ]
  },
  {
   "cell_type": "code",
   "execution_count": 30,
   "metadata": {},
   "outputs": [
    {
     "name": "stdout",
     "output_type": "stream",
     "text": [
      "Provide the abbreviation of the material coating: Fb\n"
     ]
    }
   ],
   "source": [
    "tehv_material_coating_abbreviation = input(\"Provide the abbreviation of the material coating: \")"
   ]
  },
  {
   "cell_type": "code",
   "execution_count": 31,
   "metadata": {},
   "outputs": [
    {
     "name": "stdout",
     "output_type": "stream",
     "text": [
      "Who did manufacture the coating? (Company) N/A\n"
     ]
    }
   ],
   "source": [
    "tehv_material_coating_manufacturer = input(\"Who did manufacture the coating? (Company) \")"
   ]
  },
  {
   "cell_type": "code",
   "execution_count": 32,
   "metadata": {},
   "outputs": [
    {
     "name": "stdout",
     "output_type": "stream",
     "text": [
      "where is the coating manfucaturer located? N/A\n"
     ]
    }
   ],
   "source": [
    "tehv_material_coating_manufacturer_country = input(\"where is the coating manfucaturer located? \")"
   ]
  },
  {
   "cell_type": "code",
   "execution_count": 33,
   "metadata": {},
   "outputs": [
    {
     "name": "stdout",
     "output_type": "stream",
     "text": [
      "What type of sew material is used? N/A\n"
     ]
    }
   ],
   "source": [
    "tehv_sew_material = input(\"What type of sew material is used? \")"
   ]
  },
  {
   "cell_type": "code",
   "execution_count": 34,
   "metadata": {},
   "outputs": [
    {
     "name": "stdout",
     "output_type": "stream",
     "text": [
      "who is the manufacturer of the sew material? N/A\n"
     ]
    }
   ],
   "source": [
    "tehv_sew_material_manufacturer=input(\"who is the manufacturer of the sew material? \")"
   ]
  },
  {
   "cell_type": "code",
   "execution_count": 35,
   "metadata": {},
   "outputs": [
    {
     "name": "stdout",
     "output_type": "stream",
     "text": [
      "where is the sew material manfucaturer located? N/A\n"
     ]
    }
   ],
   "source": [
    "tehv_sew_material_manufacturer_country = input(\"where is the sew material manfucaturer located? \")"
   ]
  },
  {
   "cell_type": "code",
   "execution_count": 36,
   "metadata": {},
   "outputs": [
    {
     "name": "stdout",
     "output_type": "stream",
     "text": [
      "Is there a stent present to support the TEHVs? Yes\n"
     ]
    }
   ],
   "source": [
    "tehv_stent_presence = input(\"Is there a stent present to support the TEHVs? \")"
   ]
  },
  {
   "cell_type": "code",
   "execution_count": 37,
   "metadata": {},
   "outputs": [
    {
     "name": "stdout",
     "output_type": "stream",
     "text": [
      "Provide the stent type: Self-expandable stent\n"
     ]
    }
   ],
   "source": [
    "tehv_stent_type = input(\"Provide the stent type: \")"
   ]
  },
  {
   "cell_type": "code",
   "execution_count": 38,
   "metadata": {},
   "outputs": [
    {
     "name": "stdout",
     "output_type": "stream",
     "text": [
      "Provide the length of the stent: (with unit) N/A\n"
     ]
    }
   ],
   "source": [
    "tehv_stent_length = input(\"Provide the length of the stent: (with unit) \")"
   ]
  },
  {
   "cell_type": "code",
   "execution_count": 39,
   "metadata": {},
   "outputs": [
    {
     "name": "stdout",
     "output_type": "stream",
     "text": [
      "Provide the outside diameter of the stent: (with unit) 25 mm\n"
     ]
    }
   ],
   "source": [
    "tehv_stent_outside_diameter = input(\"Provide the outside diameter of the stent: (with unit) \")"
   ]
  },
  {
   "cell_type": "code",
   "execution_count": 40,
   "metadata": {},
   "outputs": [
    {
     "name": "stdout",
     "output_type": "stream",
     "text": [
      "Provide the name of the stent manufacturer: N/A\n"
     ]
    }
   ],
   "source": [
    "tehv_stent_manufacturer = input(\"Provide the name of the stent manufacturer: \")"
   ]
  },
  {
   "cell_type": "code",
   "execution_count": 41,
   "metadata": {},
   "outputs": [
    {
     "name": "stdout",
     "output_type": "stream",
     "text": [
      "Provide the location of the manufacturer: N/A\n"
     ]
    }
   ],
   "source": [
    "tehv_stent_manufacturer_country = input(\"Provide the location of the manufacturer: \")"
   ]
  },
  {
   "cell_type": "code",
   "execution_count": 42,
   "metadata": {},
   "outputs": [
    {
     "name": "stdout",
     "output_type": "stream",
     "text": [
      "Did you seed cells on the TEHVs: (Yes/No) Yes\n"
     ]
    }
   ],
   "source": [
    "tehv_cells_seeded = input(\"Did you seed cells on the TEHVs: (Yes/No) \")"
   ]
  },
  {
   "cell_type": "code",
   "execution_count": 44,
   "metadata": {},
   "outputs": [
    {
     "name": "stdout",
     "output_type": "stream",
     "text": [
      "Provide the cell type: Vascular-derived myofibroblasts and vascular-derived endothelial cells.\n"
     ]
    }
   ],
   "source": [
    "tehv_cell_seeded_cell_type = input(\"Provide the cell type: \")"
   ]
  },
  {
   "cell_type": "code",
   "execution_count": 45,
   "metadata": {},
   "outputs": [
    {
     "name": "stdout",
     "output_type": "stream",
     "text": [
      "Provide the organism of which the cells are derived: Sheep\n"
     ]
    }
   ],
   "source": [
    "tehv_cell_seeded_organism = input(\"Provide the organism of which the cells are derived: \")"
   ]
  },
  {
   "cell_type": "code",
   "execution_count": 46,
   "metadata": {},
   "outputs": [
    {
     "name": "stdout",
     "output_type": "stream",
     "text": [
      "Provide the cell passage number: N/A\n"
     ]
    }
   ],
   "source": [
    "tehv_cell_seeded_cell_passage = input(\"Provide the cell passage number: \")"
   ]
  },
  {
   "cell_type": "code",
   "execution_count": 47,
   "metadata": {},
   "outputs": [
    {
     "name": "stdout",
     "output_type": "stream",
     "text": [
      "Provide the cell seeding density: N/A\n"
     ]
    }
   ],
   "source": [
    "tehv_cell_seeded_seeding_density = input(\"Provide the cell seeding density: \")"
   ]
  },
  {
   "cell_type": "code",
   "execution_count": 48,
   "metadata": {},
   "outputs": [
    {
     "name": "stdout",
     "output_type": "stream",
     "text": [
      "Provide details on the cell seeding carrier: Fibrin\n"
     ]
    }
   ],
   "source": [
    "tehv_cell_seeded_carrier = input(\"Provide details on the cell seeding carrier: \")"
   ]
  },
  {
   "cell_type": "code",
   "execution_count": 119,
   "metadata": {},
   "outputs": [
    {
     "name": "stdout",
     "output_type": "stream",
     "text": [
      "Provide the heart valve design images (with extension): TEHVs_transapical.png,TEHVs_transapical_scheme.png\n"
     ]
    }
   ],
   "source": [
    "tehv_valve_design=input(\"Provide the heart valve design images (with extension): \")"
   ]
  },
  {
   "cell_type": "markdown",
   "metadata": {},
   "source": [
    "<h5> Decellularization of TEHVs </h5>"
   ]
  },
  {
   "cell_type": "code",
   "execution_count": 50,
   "metadata": {},
   "outputs": [
    {
     "name": "stdout",
     "output_type": "stream",
     "text": [
      "Did you decellularize the TEHVs? (Yes/No) No\n"
     ]
    }
   ],
   "source": [
    "decellularized_tehvs = input(\"Did you decellularize the TEHVs? (Yes/No) \")"
   ]
  },
  {
   "cell_type": "code",
   "execution_count": 49,
   "metadata": {},
   "outputs": [
    {
     "name": "stdout",
     "output_type": "stream",
     "text": [
      "Provide the components in the decellularization solution: Triton X-100, Sodium deoxycholate, EDTA\n"
     ]
    }
   ],
   "source": [
    "decellularization_solution = input(\"Provide the components in the decellularization solution: \")"
   ]
  },
  {
   "cell_type": "code",
   "execution_count": 50,
   "metadata": {},
   "outputs": [
    {
     "name": "stdout",
     "output_type": "stream",
     "text": [
      "Provide the component(s) of the nucleic removal solution: TRIS-HCL + Benzonase\n"
     ]
    }
   ],
   "source": [
    "decellularization_nucleic_removal_solution = input(\"Provide the component(s) of the nucleic removal solution: \")"
   ]
  },
  {
   "cell_type": "markdown",
   "metadata": {},
   "source": [
    "<h5> Biomechanical test: biaxial test </h5>"
   ]
  },
  {
   "cell_type": "code",
   "execution_count": 51,
   "metadata": {},
   "outputs": [
    {
     "name": "stdout",
     "output_type": "stream",
     "text": [
      "Did you perform a biaxial test? No\n"
     ]
    }
   ],
   "source": [
    "biaxial_test_performed = input(\"Did you perform a biaxial test? (Yes/No)\")"
   ]
  },
  {
   "cell_type": "code",
   "execution_count": 45,
   "metadata": {},
   "outputs": [
    {
     "name": "stdout",
     "output_type": "stream",
     "text": [
      "Provide the details of the test type: Biaxial tensile test\n"
     ]
    }
   ],
   "source": [
    "biaxial_test_type = input(\"Provide the details of the test type: \")"
   ]
  },
  {
   "cell_type": "code",
   "execution_count": 55,
   "metadata": {},
   "outputs": [
    {
     "name": "stdout",
     "output_type": "stream",
     "text": [
      "Provide the number of samples: 5 (6 months) and 2 (12 months)\n"
     ]
    }
   ],
   "source": [
    "biaxial_sample_size = input(\"Provide the number of samples: \")"
   ]
  },
  {
   "cell_type": "code",
   "execution_count": 56,
   "metadata": {},
   "outputs": [
    {
     "name": "stdout",
     "output_type": "stream",
     "text": [
      "Provide the number of control valves: 1 (Bulk PC-BU)\n"
     ]
    }
   ],
   "source": [
    "biaxial_control_valves = input(\"Provide the number of control valves: \")"
   ]
  },
  {
   "cell_type": "code",
   "execution_count": 57,
   "metadata": {},
   "outputs": [
    {
     "name": "stdout",
     "output_type": "stream",
     "text": [
      "Provide the number of explant valves: 7\n"
     ]
    }
   ],
   "source": [
    "biaxial_explant_valves = input(\"Provide the number of explant valves: \")"
   ]
  },
  {
   "cell_type": "code",
   "execution_count": 46,
   "metadata": {},
   "outputs": [
    {
     "name": "stdout",
     "output_type": "stream",
     "text": [
      "Provide the number of samples per valve: 2\n"
     ]
    }
   ],
   "source": [
    "biaxial_samples_per_valve = input(\"Provide the number of samples per valve: \")"
   ]
  },
  {
   "cell_type": "code",
   "execution_count": 47,
   "metadata": {},
   "outputs": [
    {
     "name": "stdout",
     "output_type": "stream",
     "text": [
      "Provide the machine name: BioTester\n"
     ]
    }
   ],
   "source": [
    "biaxial_machine = input(\"Provide the machine name: \")"
   ]
  },
  {
   "cell_type": "code",
   "execution_count": 48,
   "metadata": {},
   "outputs": [
    {
     "name": "stdout",
     "output_type": "stream",
     "text": [
      "Provide the manufacturer of the machine: CellScale\n"
     ]
    }
   ],
   "source": [
    "biaxial_machine_manufacturer = input(\"Provide the manufacturer of the machine: \")"
   ]
  },
  {
   "cell_type": "code",
   "execution_count": 49,
   "metadata": {},
   "outputs": [
    {
     "name": "stdout",
     "output_type": "stream",
     "text": [
      "Provide information of the load cell: 1.5N \n"
     ]
    }
   ],
   "source": [
    "biaxial_load_cell = input(\"Provide information of the load cell: \")"
   ]
  },
  {
   "cell_type": "code",
   "execution_count": 50,
   "metadata": {},
   "outputs": [
    {
     "name": "stdout",
     "output_type": "stream",
     "text": [
      "Provide the strain rate: 100% per minute\n"
     ]
    }
   ],
   "source": [
    "baxial_strain_rate = input(\"Provide the strain rate: \")"
   ]
  },
  {
   "cell_type": "code",
   "execution_count": 51,
   "metadata": {},
   "outputs": [
    {
     "name": "stdout",
     "output_type": "stream",
     "text": [
      "Provide the rest cycle duration: 54 seconds\n"
     ]
    }
   ],
   "source": [
    "biaxial_rest_cycle_duration = input(\"Provide the rest cycle duration: \")"
   ]
  },
  {
   "cell_type": "code",
   "execution_count": 52,
   "metadata": {},
   "outputs": [
    {
     "name": "stdout",
     "output_type": "stream",
     "text": [
      "Provide the number of precondition precondition cycles: 5\n"
     ]
    }
   ],
   "source": [
    "biaxial_precondition_cycles = input(\"Provide the number of precondition precondition cycles: \")"
   ]
  },
  {
   "cell_type": "code",
   "execution_count": 53,
   "metadata": {},
   "outputs": [
    {
     "name": "stdout",
     "output_type": "stream",
     "text": [
      "Provide the % strain in the radial direction: 30% strain\n"
     ]
    }
   ],
   "source": [
    "biaxial_radial_direction_strain = input(\"Provide the % strain in the radial direction: \")"
   ]
  },
  {
   "cell_type": "code",
   "execution_count": 54,
   "metadata": {},
   "outputs": [
    {
     "name": "stdout",
     "output_type": "stream",
     "text": [
      "Provde the % strain in the circumferential direction: 30% strain\n"
     ]
    }
   ],
   "source": [
    "biaxial_circumferential_direction = input(\"Provde the % strain in the circumferential direction: \")"
   ]
  },
  {
   "cell_type": "markdown",
   "metadata": {},
   "source": [
    "<h5> Immuno_histology </h5>"
   ]
  },
  {
   "cell_type": "code",
   "execution_count": 52,
   "metadata": {},
   "outputs": [
    {
     "name": "stdout",
     "output_type": "stream",
     "text": [
      "Did you perform immuno histology staining? (Yes/No) No\n"
     ]
    }
   ],
   "source": [
    "immuno_performed = input(\"Did you perform immuno histology staining? (Yes/No) \")"
   ]
  },
  {
   "cell_type": "code",
   "execution_count": 62,
   "metadata": {},
   "outputs": [
    {
     "name": "stdout",
     "output_type": "stream",
     "text": [
      "what is the aim of the immunohistology experiment? To quantify α-smooth muscle actin (aSMA) expression per area, a total of 7 areas, in the center of the scaffold, over the total length of the leaflet were analyzed, from the base to the tip of the leaflet.\n"
     ]
    }
   ],
   "source": [
    "immuno_aim = input(\"what is the aim of the immunohistology experiment? \")"
   ]
  },
  {
   "cell_type": "code",
   "execution_count": 63,
   "metadata": {},
   "outputs": [
    {
     "name": "stdout",
     "output_type": "stream",
     "text": [
      "Provide which read outs are measured: Alpha-smooth muscle actin\n"
     ]
    }
   ],
   "source": [
    "immuno_read_outs = input(\"Provide which read outs are measured: \")"
   ]
  },
  {
   "cell_type": "code",
   "execution_count": 64,
   "metadata": {},
   "outputs": [
    {
     "name": "stdout",
     "output_type": "stream",
     "text": [
      "What is the 1st anitbody name? 4′,6-diamidino-2-phenylindole\n"
     ]
    }
   ],
   "source": [
    "immuno_anti_body_1_name = input(\"What is the 1st anitbody name? \")"
   ]
  },
  {
   "cell_type": "code",
   "execution_count": 65,
   "metadata": {},
   "outputs": [
    {
     "name": "stdout",
     "output_type": "stream",
     "text": [
      "What is the antibody code? DAPI\n"
     ]
    }
   ],
   "source": [
    "immuno_anti_body_1_code = input(\"What is the antibody code? \")"
   ]
  },
  {
   "cell_type": "code",
   "execution_count": 66,
   "metadata": {},
   "outputs": [
    {
     "name": "stdout",
     "output_type": "stream",
     "text": [
      "Provide the name of the 1st antibody manufacturer: Thermo Fischer\n"
     ]
    }
   ],
   "source": [
    "immuno_anti_body_1_manufacturer = input(\"Provide the name of the 1st antibody manufacturer: \")"
   ]
  },
  {
   "cell_type": "code",
   "execution_count": 67,
   "metadata": {},
   "outputs": [
    {
     "name": "stdout",
     "output_type": "stream",
     "text": [
      "Provide the location of the manufacturer: USA\n"
     ]
    }
   ],
   "source": [
    "immuno_anti_body_1_manufacturer_country = input(\"Provide the location of the manufacturer: \")"
   ]
  },
  {
   "cell_type": "code",
   "execution_count": 73,
   "metadata": {},
   "outputs": [
    {
     "name": "stdout",
     "output_type": "stream",
     "text": [
      "What is the 2nd anitbody name? Alexa fluor 488\n"
     ]
    }
   ],
   "source": [
    "immuno_anti_body_2_name = input(\"What is the 2nd anitbody name? \")"
   ]
  },
  {
   "cell_type": "code",
   "execution_count": 69,
   "metadata": {},
   "outputs": [
    {
     "name": "stdout",
     "output_type": "stream",
     "text": [
      "What is the antibody code? Alexa488\n"
     ]
    }
   ],
   "source": [
    "immuno_anti_body_2_code = input(\"What is the antibody code? \")"
   ]
  },
  {
   "cell_type": "code",
   "execution_count": 74,
   "metadata": {},
   "outputs": [
    {
     "name": "stdout",
     "output_type": "stream",
     "text": [
      "Provide the name of the 2nd antibody manufacturer: Thermo Fischer\n"
     ]
    }
   ],
   "source": [
    "immuno_anti_body_2_manufacturer = input(\"Provide the name of the 2nd antibody manufacturer: \")"
   ]
  },
  {
   "cell_type": "code",
   "execution_count": 75,
   "metadata": {},
   "outputs": [
    {
     "name": "stdout",
     "output_type": "stream",
     "text": [
      "Provide the location of the manufacturer: USA\n"
     ]
    }
   ],
   "source": [
    "immuno_anti_body_2_manufacturer_country = input(\"Provide the location of the manufacturer: \")"
   ]
  },
  {
   "cell_type": "code",
   "execution_count": 72,
   "metadata": {},
   "outputs": [
    {
     "name": "stdout",
     "output_type": "stream",
     "text": [
      "What is the 3rd anitbody name? Alexa Fluor 555\n"
     ]
    }
   ],
   "source": [
    "immuno_anti_body_3_name = input(\"What is the 3rd anitbody name? \")"
   ]
  },
  {
   "cell_type": "code",
   "execution_count": 76,
   "metadata": {},
   "outputs": [
    {
     "name": "stdout",
     "output_type": "stream",
     "text": [
      "What is the 3rd antibody code? Alexa555\n"
     ]
    }
   ],
   "source": [
    "immuno_anti_body_3_code = input(\"What is the 3rd antibody code? \")"
   ]
  },
  {
   "cell_type": "code",
   "execution_count": 77,
   "metadata": {},
   "outputs": [
    {
     "name": "stdout",
     "output_type": "stream",
     "text": [
      "Provide the name of the 3rd antibody manufacturer: Thermo Fischer\n"
     ]
    }
   ],
   "source": [
    "immuno_anti_body_3_manufacturer = input(\"Provide the name of the 3rd antibody manufacturer: \")"
   ]
  },
  {
   "cell_type": "code",
   "execution_count": 78,
   "metadata": {},
   "outputs": [
    {
     "name": "stdout",
     "output_type": "stream",
     "text": [
      "Provide the location of the manufacturer: USA\n"
     ]
    }
   ],
   "source": [
    "immuno_anti_body_3_manufacturer_country = input(\"Provide the location of the manufacturer: \")"
   ]
  },
  {
   "cell_type": "markdown",
   "metadata": {},
   "source": [
    "<h5> Scanning electron microscope </h5>"
   ]
  },
  {
   "cell_type": "code",
   "execution_count": 53,
   "metadata": {},
   "outputs": [
    {
     "name": "stdout",
     "output_type": "stream",
     "text": [
      "Did you SEM image the valves? (Yes/No) No\n"
     ]
    }
   ],
   "source": [
    "SEM_performed = input(\"Did you SEM image the valves? (Yes/No) \")"
   ]
  },
  {
   "cell_type": "code",
   "execution_count": 82,
   "metadata": {},
   "outputs": [
    {
     "name": "stdout",
     "output_type": "stream",
     "text": [
      "Provide details of which samples you imaged: Implants\n"
     ]
    }
   ],
   "source": [
    "SEM_measured_samples = input(\"Provide details of which samples you imaged: \")"
   ]
  },
  {
   "cell_type": "code",
   "execution_count": 81,
   "metadata": {},
   "outputs": [
    {
     "name": "stdout",
     "output_type": "stream",
     "text": [
      "Provide the details of what you measured: Neo-tissue coverage, degradation of scaffold fibers, endothelialization of TEHVs.\n"
     ]
    }
   ],
   "source": [
    "SEM_readouts = input(\"Provide the details of what you measured: \")"
   ]
  },
  {
   "cell_type": "markdown",
   "metadata": {},
   "source": [
    "<h5> Biochemical assay </h5>"
   ]
  },
  {
   "cell_type": "code",
   "execution_count": 54,
   "metadata": {},
   "outputs": [
    {
     "name": "stdout",
     "output_type": "stream",
     "text": [
      "Did you perform a biochemical assay? (Yes/ No) No\n"
     ]
    }
   ],
   "source": [
    "biochemical_assay_performed = input(\"Did you perform a biochemical assay? (Yes/ No) \")"
   ]
  },
  {
   "cell_type": "code",
   "execution_count": 87,
   "metadata": {},
   "outputs": [
    {
     "name": "stdout",
     "output_type": "stream",
     "text": [
      "Provide the obtained readous of the assay: DNA content, sGAGs, hydroxyproline, elastin.\n"
     ]
    }
   ],
   "source": [
    "biochemical_assay_readouts = input(\"Provide the obtained readous of the assay: \")"
   ]
  },
  {
   "cell_type": "markdown",
   "metadata": {},
   "source": [
    "<h5> Histology staining </h5>"
   ]
  },
  {
   "cell_type": "code",
   "execution_count": 55,
   "metadata": {},
   "outputs": [
    {
     "name": "stdout",
     "output_type": "stream",
     "text": [
      "Did you perform a histology staining? (Yes/ No) Yes\n"
     ]
    }
   ],
   "source": [
    "histology_staining_performed = input(\"Did you perform a histology staining? (Yes/ No) \")"
   ]
  },
  {
   "cell_type": "code",
   "execution_count": 56,
   "metadata": {},
   "outputs": [
    {
     "name": "stdout",
     "output_type": "stream",
     "text": [
      "Provide the names of the staining: Hematoxylin and Eosin, Alpha-smooth muscle actin, Elastic van Gieson, von Willebrand factor staining\n"
     ]
    }
   ],
   "source": [
    "histology_staining_staining = input(\"Provide the names of the staining: \")"
   ]
  },
  {
   "cell_type": "code",
   "execution_count": 57,
   "metadata": {},
   "outputs": [
    {
     "name": "stdout",
     "output_type": "stream",
     "text": [
      "Provide the obtained read outs: Tissue morphology, alpha-SMA, Collagen and elastic fibers, and von Willbrand factor\n"
     ]
    }
   ],
   "source": [
    "histology_staining_readouts = input(\"Provide the obtained read outs: \")"
   ]
  },
  {
   "cell_type": "markdown",
   "metadata": {},
   "source": [
    "<h5> Cytotoxicity test </h5>"
   ]
  },
  {
   "cell_type": "code",
   "execution_count": 58,
   "metadata": {},
   "outputs": [
    {
     "name": "stdout",
     "output_type": "stream",
     "text": [
      "Did you perform a cytotoxicity test? (Yes/No) No\n"
     ]
    }
   ],
   "source": [
    "cytotoxicity_performed = input(\"Did you perform a cytotoxicity test? (Yes/No) \")"
   ]
  },
  {
   "cell_type": "code",
   "execution_count": 89,
   "metadata": {},
   "outputs": [
    {
     "name": "stdout",
     "output_type": "stream",
     "text": [
      "Provide the cytotoxicity test type: MTT cytotoxicity test\n"
     ]
    }
   ],
   "source": [
    "cyto_type = input(\"Provide the cytotoxicity test type: \")"
   ]
  },
  {
   "cell_type": "code",
   "execution_count": 90,
   "metadata": {},
   "outputs": [
    {
     "name": "stdout",
     "output_type": "stream",
     "text": [
      "Provide the cell type: 3T3 mouse fibroblast\n"
     ]
    }
   ],
   "source": [
    "cyto_cells = input(\"Provide the cell type: \")"
   ]
  },
  {
   "cell_type": "code",
   "execution_count": 91,
   "metadata": {},
   "outputs": [
    {
     "name": "stdout",
     "output_type": "stream",
     "text": [
      "Provide the organism (of the cells): Mouse\n"
     ]
    }
   ],
   "source": [
    "cyto_organism = input(\"Provide the organism (of the cells): \")"
   ]
  },
  {
   "cell_type": "code",
   "execution_count": 92,
   "metadata": {},
   "outputs": [
    {
     "name": "stdout",
     "output_type": "stream",
     "text": [
      "provide the seeding density: (with unit) 5000 cells per well\n"
     ]
    }
   ],
   "source": [
    "cyto_seeding_density = input(\"provide the seeding density: (with unit) \")"
   ]
  },
  {
   "cell_type": "markdown",
   "metadata": {},
   "source": [
    "<h3> Metadata: result level </h3>"
   ]
  },
  {
   "cell_type": "code",
   "execution_count": 59,
   "metadata": {},
   "outputs": [
    {
     "name": "stdout",
     "output_type": "stream",
     "text": [
      "Was the implantation successful: (Yes/No) Yes\n"
     ]
    }
   ],
   "source": [
    "implantation_results_implantation = input(\"Was the implantation successful: (Yes/No) \")"
   ]
  },
  {
   "cell_type": "code",
   "execution_count": 104,
   "metadata": {},
   "outputs": [
    {
     "name": "stdout",
     "output_type": "stream",
     "text": [
      "Provide the number of implants at the start: 6\n"
     ]
    }
   ],
   "source": [
    "implantation_results_number_implants_start = input(\"Provide the number of implants at the start: \")"
   ]
  },
  {
   "cell_type": "code",
   "execution_count": 105,
   "metadata": {},
   "outputs": [
    {
     "name": "stdout",
     "output_type": "stream",
     "text": [
      "Did you observe perioperative morbidity: (Yes/No) No\n"
     ]
    }
   ],
   "source": [
    "implantation_perioperative_morbidity = input(\"Did you observe perioperative morbidity: (Yes/No) \")"
   ]
  },
  {
   "cell_type": "code",
   "execution_count": 106,
   "metadata": {},
   "outputs": [
    {
     "name": "stdout",
     "output_type": "stream",
     "text": [
      "Did you observe perioperative mortality: (Yes/No) No\n"
     ]
    }
   ],
   "source": [
    "implantation_perioperative_mortality = input(\"Did you observe perioperative mortality: (Yes/No) \")"
   ]
  },
  {
   "cell_type": "code",
   "execution_count": 107,
   "metadata": {},
   "outputs": [
    {
     "name": "stdout",
     "output_type": "stream",
     "text": [
      "Are all valves successfully deployed: (Yes/No) Yes\n"
     ]
    }
   ],
   "source": [
    "implantation_all_valves_success = input(\"Are all valves successfully deployed: (Yes/No) \")"
   ]
  },
  {
   "cell_type": "code",
   "execution_count": 108,
   "metadata": {},
   "outputs": [
    {
     "name": "stdout",
     "output_type": "stream",
     "text": [
      "Provide the number of valves successfully deployed: 6\n"
     ]
    }
   ],
   "source": [
    "implantation_number_success_valves = input(\"Provide the number of valves successfully deployed: \")"
   ]
  },
  {
   "cell_type": "markdown",
   "metadata": {},
   "source": [
    "<h5> In vivo performance </h5>"
   ]
  },
  {
   "cell_type": "code",
   "execution_count": 65,
   "metadata": {},
   "outputs": [
    {
     "name": "stdout",
     "output_type": "stream",
     "text": [
      "Did you assess the in vivo performance: (Yes/No) Yes\n"
     ]
    }
   ],
   "source": [
    "in_vivo_performance_measured = input(\"Did you assess the in vivo performance: (Yes/No) \")"
   ]
  },
  {
   "cell_type": "code",
   "execution_count": 109,
   "metadata": {},
   "outputs": [
    {
     "name": "stdout",
     "output_type": "stream",
     "text": [
      "Provide the number of implants at start: 6\n"
     ]
    }
   ],
   "source": [
    "in_vivo_performance_number_implants_start = input(\"Provide the number of implants at start: \")"
   ]
  },
  {
   "cell_type": "code",
   "execution_count": 110,
   "metadata": {},
   "outputs": [
    {
     "name": "stdout",
     "output_type": "stream",
     "text": [
      "Provide the number of implants at the end: 6\n"
     ]
    }
   ],
   "source": [
    "in_vivo_performance_number_implants_end = input(\"Provide the number of implants at the end: \")"
   ]
  },
  {
   "cell_type": "code",
   "execution_count": 111,
   "metadata": {},
   "outputs": [
    {
     "name": "stdout",
     "output_type": "stream",
     "text": [
      "Are any animals euhanized before the end: (Yes/No) None\n"
     ]
    }
   ],
   "source": [
    "in_vivo_performance_animals_euthanized = input(\"Are any animals euhanized before the end: (Yes/No) \")"
   ]
  },
  {
   "cell_type": "code",
   "execution_count": 112,
   "metadata": {},
   "outputs": [
    {
     "name": "stdout",
     "output_type": "stream",
     "text": [
      "Provide the number of animals euthanized: None\n"
     ]
    }
   ],
   "source": [
    "in_vivo_performance_number_animals_euthanized = input(\"Provide the number of animals euthanized: \")"
   ]
  },
  {
   "cell_type": "code",
   "execution_count": 113,
   "metadata": {},
   "outputs": [
    {
     "name": "stdout",
     "output_type": "stream",
     "text": [
      "Provide at which time point the animal(s) are euthanized: None\n"
     ]
    }
   ],
   "source": [
    "in_vivo_performance_euthanization_time = input(\"Provide at which time point the animal(s) are euthanized: \")"
   ]
  },
  {
   "cell_type": "code",
   "execution_count": 114,
   "metadata": {},
   "outputs": [
    {
     "name": "stdout",
     "output_type": "stream",
     "text": [
      "Provide the reason why animal(s) euthanized: No reason to euthanize animals.\n"
     ]
    }
   ],
   "source": [
    "in_vivo_performance_reason_euthanized = input(\"Provide the reason why animal(s) euthanized: \")"
   ]
  },
  {
   "cell_type": "markdown",
   "metadata": {},
   "source": [
    "<h5> immunohistology results </h5>"
   ]
  },
  {
   "cell_type": "code",
   "execution_count": 72,
   "metadata": {},
   "outputs": [
    {
     "name": "stdout",
     "output_type": "stream",
     "text": [
      "Provide the results observed in the leaflet region: Deposition of collagen was observed in the leaf. On some explants there was evidence of an endothelial layer on the leaflets after four weeks. Moreover, more explants were covered with endothelial cells after 8 weeks.\n"
     ]
    }
   ],
   "source": [
    "immuno_histology_leaflet_region = input(\"Provide the results observed in the leaflet region: \")"
   ]
  },
  {
   "cell_type": "code",
   "execution_count": 73,
   "metadata": {},
   "outputs": [
    {
     "name": "stdout",
     "output_type": "stream",
     "text": [
      "Provide the results observed in the hinge region: N/A\n"
     ]
    }
   ],
   "source": [
    "immuno_histology_hinge_region = input(\"Provide the results observed in the hinge region: \")"
   ]
  },
  {
   "cell_type": "code",
   "execution_count": 74,
   "metadata": {},
   "outputs": [
    {
     "name": "stdout",
     "output_type": "stream",
     "text": [
      "Provide the results observed in the wall region: The wall region contained wavy and aligned collagen bundles, as well as mature vessel formation. The wall was covered with von Willebrand factor positive cells, which were indicative of an endothelial lining. \n"
     ]
    }
   ],
   "source": [
    "immuno_histology_wall_region = input(\"Provide the results observed in the wall region: \")"
   ]
  },
  {
   "cell_type": "markdown",
   "metadata": {},
   "source": [
    "<h5> Histology results </h5>"
   ]
  },
  {
   "cell_type": "code",
   "execution_count": 116,
   "metadata": {},
   "outputs": [
    {
     "name": "stdout",
     "output_type": "stream",
     "text": [
      "Provide the results of the histology experiment: Deposition of collagen was observed in the leaf. On some explants there was evidence of an endothelial layer on the leaflets after four weeks. Moreover, more explants were covered with endothelial cells after 8 weeks. The wall region contained wavy and aligned collagen bundles, as well as mature vessel formation. The wall was covered with von Willebrand factor positive cells, which were indicative of an endothelial lining. Macrophages and giant cells were detected locally near remnants of scaffold material and at the demarcation line. The microscopic evaluation of the individua lexplants showed small aberrations to the general descriptions given above, but no typical patterns regarding the progress of remodeling or endothelial covering were observed that might be related to whether endothelial cells were seeded prior to implantation or to the in-vivo follow up period. Progression of remodeling of the wall in the surgically implanted TEHVs was delayed compared to that of the trans-apically implanted TEHV, as increasingly larger areas of highly organized tissue were observed in the wall of the trans-apically implanted TEHVs. Moreover, the wall of the trans-apically implanted TEHV revealed more α-SMA-positive cells\n"
     ]
    }
   ],
   "source": [
    "histology_results = input(\"Provide the results of the histology experiment: \")"
   ]
  },
  {
   "cell_type": "markdown",
   "metadata": {},
   "source": [
    "<h5> Macroscopic_appearance </h5>"
   ]
  },
  {
   "cell_type": "code",
   "execution_count": 117,
   "metadata": {},
   "outputs": [
    {
     "name": "stdout",
     "output_type": "stream",
     "text": [
      "Did you investigate macroscopic appeareance? (Yes/No) Yes\n"
     ]
    }
   ],
   "source": [
    "macroscopic_appearance_investigated = input(\"Did you investigate macroscopic appeareance? (Yes/No) \")"
   ]
  },
  {
   "cell_type": "code",
   "execution_count": 118,
   "metadata": {},
   "outputs": [
    {
     "name": "stdout",
     "output_type": "stream",
     "text": [
      "Provide a description of the macroscopic appearance: The macroscopic appearance of the TEHVs before implantation was similar for all valves, independent of the in-vitro culture protocol employed, or their diameter. All explanted valves demonstrated a thickened tissue formation and shrinkage of the leaflets, regardless of any different in-vitro culture protocols, endothelial pre-seeding, implantation methods, and follow up periods. However, the appearance of the ventricular side of the valves explanted after seven or eight weeks was smoother when compared to the three- or four-week explants. In all explants, there was no macroscopic evidence of calcification, structural damage, or aneurysm formation. The wall of all explants was integrated into the adjacent tissue through the holes of the stent. In all explants, there was no macroscopic evidence of calcification, structural damage, or aneurysm formation. The wall of all explants was integrated into the adjacent tissue through the holes of the stent. The degree of integration was higher for the trans-apically implanted TEHVs compared to the surgically implanted TEHVs, as separation of the native wall surrounding the stent was more difficult.\n"
     ]
    }
   ],
   "source": [
    "macroscopic_appearance = input(\"Provide a description of the macroscopic appearance: \")"
   ]
  },
  {
   "cell_type": "markdown",
   "metadata": {},
   "source": [
    "<h5> Explant appearance </h5>"
   ]
  },
  {
   "cell_type": "code",
   "execution_count": 120,
   "metadata": {},
   "outputs": [
    {
     "name": "stdout",
     "output_type": "stream",
     "text": [
      "Provide the image names (with extension) for the explant appearance: TEHVs_Transapical_appearance.PNG\n"
     ]
    }
   ],
   "source": [
    "explant_images=input(\"Provide the image names (with extension) for the explant appearance: \")"
   ]
  },
  {
   "cell_type": "markdown",
   "metadata": {},
   "source": [
    "<h5> Endothelialization </h5>"
   ]
  },
  {
   "cell_type": "code",
   "execution_count": 87,
   "metadata": {},
   "outputs": [
    {
     "name": "stdout",
     "output_type": "stream",
     "text": [
      "Did you investigate endothelialization: (Yes/No) No\n"
     ]
    }
   ],
   "source": [
    "endothelialization_investigated = input(\"Did you investigate endothelialization: (Yes/No) \")"
   ]
  },
  {
   "cell_type": "code",
   "execution_count": 114,
   "metadata": {},
   "outputs": [
    {
     "name": "stdout",
     "output_type": "stream",
     "text": [
      "Provide a short summary of the endothelialization results: Endothelialization of the ventricular surface of the valve leaflet was clearly slower compared to the pulmonary surface, suggesting shear stress dependent endothelialization of the scaffolds. \n"
     ]
    }
   ],
   "source": [
    "endothelialization_results_observation=input(\"Provide a short summary of the endothelialization results: \")"
   ]
  },
  {
   "cell_type": "code",
   "execution_count": 115,
   "metadata": {},
   "outputs": [
    {
     "name": "stdout",
     "output_type": "stream",
     "text": [
      "Describe the endothelialization trend in the leaflet region: After 6 months in vivo, endothelialization was predominantly observed on the pulmonary side of the leaflet\n"
     ]
    }
   ],
   "source": [
    "endothelialization_results_leaflet=input(\"Describe the endothelialization trend in the leaflet region: \")"
   ]
  },
  {
   "cell_type": "code",
   "execution_count": 116,
   "metadata": {},
   "outputs": [
    {
     "name": "stdout",
     "output_type": "stream",
     "text": [
      "Describe the endothelialization trend in the hinge region: N/A\n"
     ]
    }
   ],
   "source": [
    "endothelialization_results_hinge=input(\"Describe the endothelialization trend in the hinge region: \")"
   ]
  },
  {
   "cell_type": "code",
   "execution_count": 117,
   "metadata": {},
   "outputs": [
    {
     "name": "stdout",
     "output_type": "stream",
     "text": [
      "Describe the endothelialization trend in the valvular wall: N/A\n"
     ]
    }
   ],
   "source": [
    "endothelialization_results_valvular=input(\"Describe the endothelialization trend in the valvular wall: \")"
   ]
  },
  {
   "cell_type": "markdown",
   "metadata": {},
   "source": [
    "<h5> Biochemical assay </h5>"
   ]
  },
  {
   "cell_type": "code",
   "execution_count": 118,
   "metadata": {},
   "outputs": [
    {
     "name": "stdout",
     "output_type": "stream",
     "text": [
      "Provide the name of the read out: DNA content\n"
     ]
    }
   ],
   "source": [
    "biochemical_assay_readout1=input(\"Provide the name of the read out: \")"
   ]
  },
  {
   "cell_type": "code",
   "execution_count": 119,
   "metadata": {},
   "outputs": [
    {
     "name": "stdout",
     "output_type": "stream",
     "text": [
      "Describe what you observed: DNA content was lower at 6 and 12 months compared to the native valves.\n"
     ]
    }
   ],
   "source": [
    "biochemical_assay_readout1_observation = input(\"Describe what you observed: \")"
   ]
  },
  {
   "cell_type": "code",
   "execution_count": 120,
   "metadata": {},
   "outputs": [
    {
     "name": "stdout",
     "output_type": "stream",
     "text": [
      "Provide the dry weight of the controls: (with unit) 8.2 microgram/mg\n"
     ]
    }
   ],
   "source": [
    "biochemical_assay_readout1_controls_dry_weight = input(\"Provide the dry weight of the controls: (with unit) \")"
   ]
  },
  {
   "cell_type": "code",
   "execution_count": 121,
   "metadata": {},
   "outputs": [
    {
     "name": "stdout",
     "output_type": "stream",
     "text": [
      "Provide the dry weight of the explants: (with unit) 6.5 microgram/mg and 6.1 microgram/mg (6 and 12 months)\n"
     ]
    }
   ],
   "source": [
    "biochemical_assay_readout1_explants_dry_weight = input(\"Provide the dry weight of the explants: (with unit) \")"
   ]
  },
  {
   "cell_type": "code",
   "execution_count": 122,
   "metadata": {},
   "outputs": [
    {
     "name": "stdout",
     "output_type": "stream",
     "text": [
      "Provide the name of the read out: sGAGs\n"
     ]
    }
   ],
   "source": [
    "biochemical_assay_readout2=input(\"Provide the name of the read out: \")"
   ]
  },
  {
   "cell_type": "code",
   "execution_count": 123,
   "metadata": {},
   "outputs": [
    {
     "name": "stdout",
     "output_type": "stream",
     "text": [
      "Describe what you observed: sGAGs content is lower at 6 and 12 months compared to the native valves.\n"
     ]
    }
   ],
   "source": [
    "biochemical_assay_readout2_observation = input(\"Describe what you observed: \")"
   ]
  },
  {
   "cell_type": "code",
   "execution_count": 124,
   "metadata": {},
   "outputs": [
    {
     "name": "stdout",
     "output_type": "stream",
     "text": [
      "Provide the dry weight of the controls: (with unit) 47.9 microgram/mg\n"
     ]
    }
   ],
   "source": [
    "biochemical_assay_readout2_controls_dry_weight = input(\"Provide the dry weight of the controls: (with unit) \")"
   ]
  },
  {
   "cell_type": "code",
   "execution_count": 125,
   "metadata": {},
   "outputs": [
    {
     "name": "stdout",
     "output_type": "stream",
     "text": [
      "Provide the dry weight of the explants: (with unit) 27.5 microgram/mg and 25.9 microgram/mg (6 and 12 months)\n"
     ]
    }
   ],
   "source": [
    "biochemical_assay_readout2_explants_dry_weight = input(\"Provide the dry weight of the explants: (with unit) \")"
   ]
  },
  {
   "cell_type": "code",
   "execution_count": 127,
   "metadata": {},
   "outputs": [
    {
     "name": "stdout",
     "output_type": "stream",
     "text": [
      "Provide the name of the read out: Collagen\n"
     ]
    }
   ],
   "source": [
    "biochemical_assay_readout3=input(\"Provide the name of the read out: \")"
   ]
  },
  {
   "cell_type": "code",
   "execution_count": 128,
   "metadata": {},
   "outputs": [
    {
     "name": "stdout",
     "output_type": "stream",
     "text": [
      "Describe what you observed: Collange(based on HYP) was lower at 6 and 12 months compared to the native valves.\n"
     ]
    }
   ],
   "source": [
    "biochemical_assay_readout3_observation = input(\"Describe what you observed: \")"
   ]
  },
  {
   "cell_type": "code",
   "execution_count": 131,
   "metadata": {},
   "outputs": [
    {
     "name": "stdout",
     "output_type": "stream",
     "text": [
      "Provide the dry weight of the controls: (with unit) 37.0 microgram/mg\n"
     ]
    }
   ],
   "source": [
    "biochemical_assay_readout3_controls_dry_weight = input(\"Provide the dry weight of the controls: (with unit) \")"
   ]
  },
  {
   "cell_type": "code",
   "execution_count": 130,
   "metadata": {},
   "outputs": [
    {
     "name": "stdout",
     "output_type": "stream",
     "text": [
      "Provide the dry weight of the explants: (with unit) 22.6 microgram/mg and 30.6 microgram/mg (6 and 12 months)\n"
     ]
    }
   ],
   "source": [
    "biochemical_assay_readout3_explants_dry_weight = input(\"Provide the dry weight of the explants: (with unit) \")"
   ]
  },
  {
   "cell_type": "code",
   "execution_count": 132,
   "metadata": {},
   "outputs": [
    {
     "name": "stdout",
     "output_type": "stream",
     "text": [
      "Provide the name of the read out: Elastin\n"
     ]
    }
   ],
   "source": [
    "biochemical_readout4 = input(\"Provide the name of the read out: \")"
   ]
  },
  {
   "cell_type": "code",
   "execution_count": 133,
   "metadata": {},
   "outputs": [
    {
     "name": "stdout",
     "output_type": "stream",
     "text": [
      "Describe what you observed: Elastin levels are more or less similar at 6 and 12 months comapred to the native valve.\n"
     ]
    }
   ],
   "source": [
    "biochemical_assay_readout4_observation = input(\"Describe what you observed: \")"
   ]
  },
  {
   "cell_type": "code",
   "execution_count": 134,
   "metadata": {},
   "outputs": [
    {
     "name": "stdout",
     "output_type": "stream",
     "text": [
      "Provide the dry weight of the controls: (with unit) 22.4 microgram.mg\n"
     ]
    }
   ],
   "source": [
    "biochemical_assay_readout4_controls_dry_weight = input(\"Provide the dry weight of the controls: (with unit) \")"
   ]
  },
  {
   "cell_type": "code",
   "execution_count": 135,
   "metadata": {},
   "outputs": [
    {
     "name": "stdout",
     "output_type": "stream",
     "text": [
      "Provide the dry weight of the explants: (with unit) 18.8 microgram/mg and 21.3 microgram/mg (6 and 12 months)\n"
     ]
    }
   ],
   "source": [
    "biochemical_assay_readout4_explants_dry_weight = input(\"Provide the dry weight of the explants: (with unit) \")"
   ]
  },
  {
   "cell_type": "markdown",
   "metadata": {},
   "source": [
    "<h5> in vitro functionality </h5>"
   ]
  },
  {
   "cell_type": "code",
   "execution_count": 80,
   "metadata": {},
   "outputs": [
    {
     "name": "stdout",
     "output_type": "stream",
     "text": [
      "Did you measure in vitro functionality: (Yes/No) No\n"
     ]
    }
   ],
   "source": [
    "in_vitro_functionality_measured = input(\"Did you measure in vitro functionality: (Yes/No) \")"
   ]
  },
  {
   "cell_type": "code",
   "execution_count": null,
   "metadata": {},
   "outputs": [],
   "source": [
    "in_vitro_functionality_total_samples = input(\"Provide the total number of samples: \")"
   ]
  },
  {
   "cell_type": "code",
   "execution_count": null,
   "metadata": {},
   "outputs": [],
   "source": [
    "in_vitro_functionality_control_samples = input(\"Provide the number of control samples: \")"
   ]
  },
  {
   "cell_type": "code",
   "execution_count": null,
   "metadata": {},
   "outputs": [],
   "source": [
    "in_vitro_functionality_implant_samples = input(\"Provide the number of implant samples: \")"
   ]
  },
  {
   "cell_type": "markdown",
   "metadata": {},
   "source": [
    "<b> First fill in the information for the control samples </b>"
   ]
  },
  {
   "cell_type": "code",
   "execution_count": null,
   "metadata": {},
   "outputs": [],
   "source": [
    "in_vitro_functionality_control_regurgitation_unit = input(\"Provide the regurgitation unit: \")"
   ]
  },
  {
   "cell_type": "code",
   "execution_count": null,
   "metadata": {},
   "outputs": [],
   "source": [
    "in_vitro_functionality_control_regurgitation_values = input(\"Provide the regurgitation values: \")"
   ]
  },
  {
   "cell_type": "code",
   "execution_count": null,
   "metadata": {},
   "outputs": [],
   "source": [
    "in_vitro_functionality_control_regurgitation_sample_code = input(\"Provide the regurgitation sample codes: \")"
   ]
  },
  {
   "cell_type": "code",
   "execution_count": null,
   "metadata": {},
   "outputs": [],
   "source": [
    "in_vitro_functionality_control_closing_volume_unit = input(\"Provide the closing volume unit: \")"
   ]
  },
  {
   "cell_type": "code",
   "execution_count": null,
   "metadata": {},
   "outputs": [],
   "source": [
    "in_vitro_functionality_control_closing_volume_values = input(\"Provide the closing volume values: \")"
   ]
  },
  {
   "cell_type": "code",
   "execution_count": null,
   "metadata": {},
   "outputs": [],
   "source": [
    "in_vitro_functionality_control_closing_volume_sample_code = input(\"Provide the closing volume sample codes: \")"
   ]
  },
  {
   "cell_type": "code",
   "execution_count": null,
   "metadata": {},
   "outputs": [],
   "source": [
    "in_vitro_functionality_control_leakage_volume_unit = input(\"Provide the leakage volume unit: \")"
   ]
  },
  {
   "cell_type": "code",
   "execution_count": null,
   "metadata": {},
   "outputs": [],
   "source": [
    "in_vitro_functionality_control_leakage_volume_values= input(\"Provide the leakage volume values: \")"
   ]
  },
  {
   "cell_type": "code",
   "execution_count": null,
   "metadata": {},
   "outputs": [],
   "source": [
    "in_vitro_functionality_control_leakage_volume_sample_code = input(\"Provide the leakage volume sample code: \")"
   ]
  },
  {
   "cell_type": "code",
   "execution_count": null,
   "metadata": {},
   "outputs": [],
   "source": [
    "in_vitro_functionality_control_stroke_volume_unit = input(\"Provide the stroke volume unit: \")"
   ]
  },
  {
   "cell_type": "code",
   "execution_count": null,
   "metadata": {},
   "outputs": [],
   "source": [
    "in_vitro_functionality_control_stroke_volume_values = input(\"Provide the stroke volume values: \")"
   ]
  },
  {
   "cell_type": "code",
   "execution_count": null,
   "metadata": {},
   "outputs": [],
   "source": [
    "in_vitro_functionality_control_stroke_volume_sample_code = input(\"Provide the sample codes: \")"
   ]
  },
  {
   "cell_type": "code",
   "execution_count": null,
   "metadata": {},
   "outputs": [],
   "source": [
    "in_vitro_functionality_control_orefice_area_unit = input(\"Provide the orefice area unit: \")"
   ]
  },
  {
   "cell_type": "code",
   "execution_count": null,
   "metadata": {},
   "outputs": [],
   "source": [
    "in_vitro_functionality_control_orefice_area_values = input(\"Provide the orefice area values: \")"
   ]
  },
  {
   "cell_type": "code",
   "execution_count": null,
   "metadata": {},
   "outputs": [],
   "source": [
    "in_vitro_functionality_control_orefice_area_sample_code = input(\"Provide the orefice area sample code: \")"
   ]
  },
  {
   "cell_type": "markdown",
   "metadata": {},
   "source": [
    "<b> Now provide the information for the implant samples </b>"
   ]
  },
  {
   "cell_type": "code",
   "execution_count": null,
   "metadata": {},
   "outputs": [],
   "source": [
    "in_vitro_functionality_implant_regurgitation_unit = input(\"Provide the regurgitation unit: \")"
   ]
  },
  {
   "cell_type": "code",
   "execution_count": null,
   "metadata": {},
   "outputs": [],
   "source": [
    "in_vitro_functionality_implant_regurgitation_values = input(\"Provide the regurgitation values: \")"
   ]
  },
  {
   "cell_type": "code",
   "execution_count": null,
   "metadata": {},
   "outputs": [],
   "source": [
    "in_vitro_functionality_implant_regurgitation_sample_code = input(\"Provide the regurgitation sample codes: \")"
   ]
  },
  {
   "cell_type": "code",
   "execution_count": null,
   "metadata": {},
   "outputs": [],
   "source": [
    "in_vitro_functionality_implant_closing_volume_unit = input(\"Provide the closing volume unit: \")"
   ]
  },
  {
   "cell_type": "code",
   "execution_count": null,
   "metadata": {},
   "outputs": [],
   "source": [
    "in_vitro_functionality_implant_closing_volume_values = input(\"Provide the closing volume values: \")"
   ]
  },
  {
   "cell_type": "code",
   "execution_count": null,
   "metadata": {},
   "outputs": [],
   "source": [
    "in_vitro_functionality_implant_closing_volume_sample_code = input(\"Provide the closing volume sample codes: \")"
   ]
  },
  {
   "cell_type": "code",
   "execution_count": null,
   "metadata": {},
   "outputs": [],
   "source": [
    "in_vitro_functionality_implant_leakage_volume_unit = input(\"Provide the leakage volume unit: \")"
   ]
  },
  {
   "cell_type": "code",
   "execution_count": null,
   "metadata": {},
   "outputs": [],
   "source": [
    "in_vitro_functionality_implant_leakage_volume_values = input(\"Provide the leakage volume values: \")"
   ]
  },
  {
   "cell_type": "code",
   "execution_count": null,
   "metadata": {},
   "outputs": [],
   "source": [
    "in_vitro_functionality_implant_leakage_volume_sample_code = input(\"Provide the leakage volume sample code: \")"
   ]
  },
  {
   "cell_type": "code",
   "execution_count": null,
   "metadata": {},
   "outputs": [],
   "source": [
    "in_vitro_functionality_implant_stroke_volume_unit = input(\"Provide the stroke volume unit: \")"
   ]
  },
  {
   "cell_type": "code",
   "execution_count": null,
   "metadata": {},
   "outputs": [],
   "source": [
    "in_vitro_functionality_implant_stroke_volume_values = input(\"Provide the stroke volume values: \")"
   ]
  },
  {
   "cell_type": "code",
   "execution_count": null,
   "metadata": {},
   "outputs": [],
   "source": [
    "in_vitro_functionality_implant_stroke_volume_sample_code = input(\"Provide the sample codes: \")\n"
   ]
  },
  {
   "cell_type": "code",
   "execution_count": null,
   "metadata": {},
   "outputs": [],
   "source": [
    "in_vitro_functionality_implant_orefice_area_unit = input(\"Provide the orefice area unit: \")"
   ]
  },
  {
   "cell_type": "code",
   "execution_count": null,
   "metadata": {},
   "outputs": [],
   "source": [
    "in_vitro_functionality_implant_orefice_area_values = input(\"Provide the orefice area values: \")"
   ]
  },
  {
   "cell_type": "code",
   "execution_count": null,
   "metadata": {},
   "outputs": [],
   "source": [
    "in_vitro_functionality_implant_orefice_area_sample_code = input(\"PRovide the orefice area sample code: \")"
   ]
  },
  {
   "cell_type": "markdown",
   "metadata": {},
   "source": [
    "<h5> long-term follow-up results </h5>"
   ]
  },
  {
   "cell_type": "code",
   "execution_count": 81,
   "metadata": {},
   "outputs": [
    {
     "name": "stdout",
     "output_type": "stream",
     "text": [
      "Did you perform a long-term follow up: (Yes/No) No\n"
     ]
    }
   ],
   "source": [
    "long_term_follow_up_performed = input(\"Did you perform a long-term follow up: (Yes/No) \")"
   ]
  },
  {
   "cell_type": "code",
   "execution_count": null,
   "metadata": {},
   "outputs": [],
   "source": [
    "long_term_follow_up_number_of_samples = input(\"Provide the total number of samples: \")"
   ]
  },
  {
   "cell_type": "code",
   "execution_count": null,
   "metadata": {},
   "outputs": [],
   "source": [
    "long_term_follow_up_number_of_control_samples = input(\"Provide the number of control samples: \")"
   ]
  },
  {
   "cell_type": "code",
   "execution_count": null,
   "metadata": {},
   "outputs": [],
   "source": [
    "long_term_follow_up_number_of_explant_samples = input(\"Provde the number of explant samples: \")"
   ]
  },
  {
   "cell_type": "code",
   "execution_count": null,
   "metadata": {},
   "outputs": [],
   "source": [
    "long_term_follow_up_leaflet_length_control = input(\"Provde the leaflet length of the control group: \")"
   ]
  },
  {
   "cell_type": "code",
   "execution_count": null,
   "metadata": {},
   "outputs": [],
   "source": [
    "long_term_follow_up_leaflet_length_explant = input(\"Provde the leaflet length of the explant group: \")"
   ]
  },
  {
   "cell_type": "code",
   "execution_count": null,
   "metadata": {},
   "outputs": [],
   "source": [
    "long_term_follow_up_leaflet_length_meaning = input(\"Specify if the values are per sample, average, or median: \")"
   ]
  },
  {
   "cell_type": "code",
   "execution_count": null,
   "metadata": {},
   "outputs": [],
   "source": [
    "long_term_follow_up_leaflet_thickness_control = input(\"Provide the leaflet thickness of the control group: \")"
   ]
  },
  {
   "cell_type": "code",
   "execution_count": null,
   "metadata": {},
   "outputs": [],
   "source": [
    "long_term_follow_up_leaflet_thickness_explant = input(\"Provide the leaflet thickness of the implant group: \")"
   ]
  },
  {
   "cell_type": "code",
   "execution_count": null,
   "metadata": {},
   "outputs": [],
   "source": [
    "long_term_follow_up_leaflet_thickness_meaning = input(\"Specify if the values are per sample, average, or median: \")"
   ]
  },
  {
   "cell_type": "markdown",
   "metadata": {},
   "source": [
    "<h3> Create the json object </h3>"
   ]
  },
  {
   "cell_type": "code",
   "execution_count": 121,
   "metadata": {},
   "outputs": [],
   "source": [
    "study_design_items=[]"
   ]
  },
  {
   "cell_type": "code",
   "execution_count": 122,
   "metadata": {},
   "outputs": [],
   "source": [
    "# conver the image objects\n",
    "tehv_valve_design_images = tehv_valve_design.split(\",\")\n",
    "explant_images = explant_images.split(\",\")\n",
    "#in_vitro_functionality_control_regurgitation_values = in_vitro_functionality_control_regurgitation_values.split(\",\")\n",
    "#in_vitro_functionality_control_closing_volume_values = in_vitro_functionality_control_closing_volume_values.split(\",\")\n",
    "#in_vitro_functionality_implant_leakage_volume_values = in_vitro_functionality_implant_leakage_volume_values.split(\",\")\n",
    "#in_vitro_functionality_control_stroke_volume_values  = in_vitro_functionality_control_stroke_volume_values.split(\",\")\n",
    "#in_vitro_functionality_control_orefice_area_values = in_vitro_functionality_control_orefice_area_values.split(\",\")\n",
    "#in_vitro_functionality_implant_regurgitation_values = in_vitro_functionality_implant_regurgitation_values.split(\",\")\n",
    "#in_vitro_functionality_implant_closing_volume_values = in_vitro_functionality_implant_closing_volume_values.split(\",\")\n",
    "#in_vitro_functionality_implant_leakage_volume_values = in_vitro_functionality_implant_leakage_volume_values.split(\",\")\n",
    "#in_vitro_functionality_implant_stroke_volume_values = in_vitro_functionality_implant_stroke_volume_values.split(\",\")\n",
    "#in_vitro_functionality_implant_orefice_area_values = in_vitro_functionality_implant_orefice_area_values.split(\",\")"
   ]
  },
  {
   "cell_type": "code",
   "execution_count": 123,
   "metadata": {},
   "outputs": [],
   "source": [
    "if implantation_performed.upper() ==\"YES\":\n",
    "    implantation_object={\n",
    "        \"Name\":\"Animal implantation\",\n",
    "        \"Implantation_method\":implantation_method ,\n",
    "        \"Implantation_procedure\":implantation_method_procedure,\n",
    "        \"Implantation_location\":implantation_location,\n",
    "        \"Scaffold\":implantation_scaffold,\n",
    "        \"Stent_present\":implantation_stent_present,\n",
    "        \"Stent_type\":implantation_stent_type,\n",
    "        \"Scaffold_design_class\":implantation_design_class,\n",
    "        \"Animal_model\":implantation_animal_model\n",
    "    }\n",
    "    study_design_items.append(implantation_object)\n",
    "    \n",
    "if tehv_used.upper() ==\"YES\":\n",
    "    if tehv_cells_seeded.upper==\"YES\":\n",
    "        tehv_object={\n",
    "            \"Name\":\"Tissue Engineered Heart Valves\",\n",
    "            \"Number_of_samples\":tehv_number_of_samples,\n",
    "            \"Mesh\":{\n",
    "                \"Material\":tehv_material_mesh,\n",
    "                \"Abbreviation\":tehv_material_mesh_abbreviation,\n",
    "                \"Thickness\":tehv_material_thickness\n",
    "            },\n",
    "            \"Specific_gravity\":tehv_specific_gravity,\n",
    "            \"Coating\":{\n",
    "                \"Name\":tehv_material_coating,\n",
    "                \"Abbreviation\":tehv_material_coating_abbreviation,\n",
    "                \"Manufacturer\":tehv_material_coating_manufacturer,\n",
    "                \"Country\": tehv_material_coating_manufacturer_country\n",
    "            },\n",
    "            \"Sew\":{\n",
    "                \"Name\":tehv_sew_material,\n",
    "                \"Manufacturer\":tehv_sew_material_manufacturer,\n",
    "                \"Country\":tehv_sew_material_manufacturer_country\n",
    "            },\n",
    "            \"Stent\":{\n",
    "                \"Present\":tehv_stent_presence,\n",
    "                \"Stent_type\":tehv_stent_type,\n",
    "                \"Stent_length\":tehv_stent_length,\n",
    "                \"Outside_diameter\":tehv_stent_outside_diameter,\n",
    "                \"Manufacturer\":tehv_stent_manufacturer,\n",
    "                \"Country\":tehv_stent_manufacturer_country\n",
    "            },\n",
    "            \"Cell_seeding\":{\n",
    "                \"Cells_seeded\":tehv_cells_seeded,\n",
    "                \"Cell_type\":tehv_cell_seeded_cell_type,\n",
    "                \"Organism\": tehv_cell_seeded_organism,\n",
    "                \"Cell_Passage\":tehv_cell_seeded_cell_passage,\n",
    "                \"Seeding_density\":tehv_cell_seeded_seeding_density,\n",
    "                \"Seeding_carrier\":tehv_cell_seeded_carrier,\n",
    "            },\n",
    "            \"Images\":tehv_valve_design_images\n",
    "        }\n",
    "    else:\n",
    "              tehv_object={\n",
    "            \"Name\":\"Tissue Engineered Heart Valves\",\n",
    "            \"Number_of_samples\":tehv_number_of_samples,\n",
    "            \"Mesh\":{\n",
    "                \"Material\":tehv_material_mesh,\n",
    "                \"Abbreviation\":tehv_material_mesh_abbreviation,\n",
    "                \"Thickness\":tehv_material_thickness\n",
    "            },\n",
    "            \"Specific_gravity\":tehv_specific_gravity,\n",
    "            \"Coating\":{\n",
    "                \"Name\":tehv_material_coating,\n",
    "                \"Abbreviation\":tehv_material_coating_abbreviation,\n",
    "                \"Manufacturer\":tehv_material_coating_manufacturer,\n",
    "                \"Country\": tehv_material_coating_manufacturer_country\n",
    "            },\n",
    "            \"Sew\":{\n",
    "                \"Name\":tehv_sew_material,\n",
    "                \"Manufacturer\":tehv_sew_material_manufacturer,\n",
    "                \"Country\":tehv_sew_material_manufacturer_country\n",
    "            },\n",
    "            \"Stent\":{\n",
    "                \"Present\":tehv_stent_presence,\n",
    "                \"Stent_type\":tehv_stent_type,\n",
    "                \"Stent_length\":tehv_stent_length,\n",
    "                \"Outside_diameter\":tehv_stent_outside_diameter,\n",
    "                \"Manufacturer\":tehv_stent_manufacturer,\n",
    "                \"Country\":tehv_stent_manufacturer_country\n",
    "            },\n",
    "            \"Images\":tehv_valve_design_images\n",
    "        }\n",
    "    study_design_items.append(tehv_object)\n",
    "        \n",
    "        \n",
    "        \n",
    "if decellularized_tehvs.upper() ==\"YES\":\n",
    "    decellularized_object={\n",
    "        \"Name\":\"Decullularized TEHVs\",\n",
    "        \"Solution\":decellularization_solution,\n",
    "        \"Nucleic_removal_solution\":decellularization_nucleic_removal_solution\n",
    "    }\n",
    "    study_design_items.append(decellularized_object)\n",
    "\n",
    "if immuno_performed.upper() == \"YES\":\n",
    "    immuno_object={\n",
    "        \"Name\":\"ImmunoHistology\",\n",
    "        \"Aim\":immuno_aim,\n",
    "        \"Read_outs\":immuno_read_outs,\n",
    "        \"First_antibody\":{\n",
    "            \"Name\":immuno_anti_body_1_name,\n",
    "            \"Code\":immuno_anti_body_1_code,\n",
    "            \"Manufacturer\":immuno_anti_body_1_manufacturer,\n",
    "            \"Country\":immuno_anti_body_1_manufacturer_country\n",
    "        },\n",
    "        \"Second_antibody\":{\n",
    "            \"Name\":immuno_anti_body_2_name,\n",
    "            \"Code\":immuno_anti_body_2_code,\n",
    "            \"Manufacturer\":immuno_anti_body_2_manufacturer,\n",
    "            \"Country\":immuno_anti_body_2_manufacturer_country\n",
    "        },\n",
    "        \"Third_antibody\":{\n",
    "            \"Name\":immuno_anti_body_3_name,\n",
    "            \"Code\":immuno_anti_body_3_code,\n",
    "            \"Manufacturer\":immuno_anti_body_3_manufacturer,\n",
    "            \"Country\":immuno_anti_body_3_manufacturer_country\n",
    "        }\n",
    "    }\n",
    "    study_design_items.append(immuno_object)\n",
    "    \n",
    "if SEM_performed.upper() == \"YES\":\n",
    "    SEM_object={\n",
    "        \"Name\":\"Scanning Electron Microscope\",\n",
    "        \"Samples_imaged\":SEM_measured_samples,\n",
    "        \"Read_outs\":SEM_readouts \n",
    "    }\n",
    "    study_design_items.append(SEM_object)\n",
    "\n",
    "if biochemical_assay_performed.upper() ==\"YES\":\n",
    "    biochemical_object = {\n",
    "        \"Name\":\"Biochemical Assay\",\n",
    "        \"Read_outs\":biochemical_assay_readouts\n",
    "    }\n",
    "    study_design_items.append(biochemical_object)\n",
    "    \n",
    "if histology_staining_performed.upper() ==\"YES\":\n",
    "    histology_object={\n",
    "        \"Name\":\"Histology experiment\",\n",
    "        \"Staining\":histology_staining_staining,\n",
    "        \"Read_outs\":histology_staining_readouts\n",
    "    }\n",
    "    study_design_items.append(histology_object)\n",
    "    \n",
    "        \n",
    "        "
   ]
  },
  {
   "cell_type": "code",
   "execution_count": 124,
   "metadata": {},
   "outputs": [],
   "source": [
    "study_results_items=[]"
   ]
  },
  {
   "cell_type": "code",
   "execution_count": 125,
   "metadata": {},
   "outputs": [],
   "source": [
    "if implantation_performed.upper() ==\"YES\":\n",
    "    implantation_results_object={\n",
    "        \"Name\":\"Implantation results\",\n",
    "        \"Number_implants_at_start\":implantation_results_number_implants_start,\n",
    "        \"Perioperative_morbidity\":implantation_perioperative_morbidity,\n",
    "        \"Perioperative_mortality\":implantation_perioperative_mortality,\n",
    "        \"Implantation_all_valves_success\":implantation_all_valves_success,\n",
    "        \"Successful_implanted_valves\":implantation_number_success_valves\n",
    "    }\n",
    "    study_results_items.append(implantation_results_object)\n",
    "    \n",
    "if in_vivo_performance_measured.upper() ==\"YES\":\n",
    "    in_vivo_performance_object={\n",
    "        \"Name\":\"In vivo performance\",\n",
    "        \"Number_implants_start\":in_vivo_performance_number_implants_start,\n",
    "        \"Number_implants_end\":in_vivo_performance_number_implants_end,\n",
    "        \"Animals_euthanized\":in_vivo_performance_number_animals_euthanized,\n",
    "        \"Euthanization_time\":in_vivo_performance_euthanization_time,\n",
    "        \"Reason_euthanization\":in_vivo_performance_reason_euthanized\n",
    "    }\n",
    "    study_results_items.append(in_vivo_performance_object)\n",
    "\n",
    "if immuno_performed.upper()==\"YES\":\n",
    "    immuno_results_object={\n",
    "        \"Name\":\"ImmunoHistology results\",\n",
    "        \"Leaflet region\":immuno_histology_leaflet_region,\n",
    "        \"Hinge region\":immuno_histology_hinge_region,\n",
    "        \"Wall region\":immuno_histology_wall_region\n",
    "    }\n",
    "    study_results_items.append(immuno_results_object)\n",
    "if histology_staining_performed.upper() ==\"YES\":\n",
    "    histology_results_object={\n",
    "        \"Name\":\"Histology experiment results\",\n",
    "        \"Summary\":histology_results\n",
    "    }\n",
    "    study_results_items.append(histology_results_object)\n",
    "if macroscopic_appearance_investigated.upper() ==\"YES\":\n",
    "    macroscopic_results_object={\n",
    "        \"Name\":\"Macroscopic appearance\",\n",
    "        \"Summary\":macroscopic_appearance,\n",
    "        'Explant_image':explant_images\n",
    "    }\n",
    "    study_results_items.append(macroscopic_results_object)\n",
    "    \n",
    "if endothelialization_investigated.upper() ==\"YES\":\n",
    "    endothelialization_result_object={\n",
    "        \"Name\":\"Endothelialization\",\n",
    "        \"Summary\":endothelialization_results_observation,\n",
    "        \"Leaflet_region\":endothelialization_results_leaflet,\n",
    "        \"Hinge_region\":endothelialization_results_hinge,\n",
    "        \"Valvular_wall\":endothelialization_results_valvular\n",
    "    }\n",
    "    study_results_items.append(endothelialization_result_object)\n",
    "\n",
    "if biochemical_assay_performed.upper() ==\"YES\":\n",
    "    biochemical_results_object={\n",
    "        \"Name\":\"Biochemical assay results\",\n",
    "        \"Readout_1\":{\n",
    "            \"Name\":biochemical_assay_readout1,\n",
    "            \"Observation\":biochemical_assay_readout1_observation,\n",
    "            \"Controls_dry_weight\":biochemical_assay_readout1_controls_dry_weight,\n",
    "            \"Explant_dry_weight\":biochemical_assay_readout1_explants_dry_weight\n",
    "        },\n",
    "        \"Readout_2\":{\n",
    "            \"Name\":biochemical_assay_readout2,\n",
    "            \"Observation\":biochemical_assay_readout2_observation,\n",
    "            \"Controls_dry_weight\":biochemical_assay_readout2_controls_dry_weight,\n",
    "            \"Explant_dry_weight\":biochemical_assay_readout2_explants_dry_weight\n",
    "        },\"Readout_3\":{\n",
    "            \"Name\":biochemical_assay_readout3,\n",
    "            \"Observation\":biochemical_assay_readout3_observation,\n",
    "            \"Controls_dry_weight\":biochemical_assay_readout3_controls_dry_weight,\n",
    "            \"Explant_dry_weight\":biochemical_assay_readout3_explants_dry_weight\n",
    "        },\n",
    "        \"Readout_4\":{\n",
    "            \"Name\":biochemical_readout4,\n",
    "            \"Observation\":biochemical_assay_readout4_observation,\n",
    "            \"Controls_dry_weight\":biochemical_assay_readout4_controls_dry_weight,\n",
    "            \"Explant_dry_weight\":biochemical_assay_readout4_explants_dry_weight\n",
    "        }\n",
    "    }\n",
    "    study_results_items.append(biochemical_results_object)\n",
    "\n",
    "if in_vitro_functionality_measured.upper() ==\"YES\":\n",
    "    in_vitro_results_object={\n",
    "        \"Name\":\"In vitro performance\",\n",
    "        \"Total_samples\":in_vitro_functionality_total_samples,\n",
    "        \"Number_of_control_samples\":in_vitro_functionality_control_samples,\n",
    "        \"Number_of_implant_samples\":in_vitro_functionality_implant_samples,\n",
    "        \"Regurgitation\":{\n",
    "            \"Control_sample_values\":in_vitro_functionality_control_regurgitation_values,\n",
    "            \"Implant_sample_values\":in_vitro_functionality_implant_regurgitation_values,\n",
    "            \"Unit (Control)\":in_vitro_functionality_control_regurgitation_unit,\n",
    "            \"Unit (Implant)\":in_vitro_functionality_implant_regurgitation_unit,\n",
    "            \"Control_sample_code\":in_vitro_functionality_control_regurgitation_sample_code,\n",
    "            \"Implant_sample_code\":in_vitro_functionality_implant_regurgitation_sample_code\n",
    "        },\n",
    "        \"Closing_volume\":{\n",
    "            \"Control_sample_values\":in_vitro_functionality_control_closing_volume_values,\n",
    "            \"Implant_sample_values\":in_vitro_functionality_implant_closing_volume_values,\n",
    "            \"Unit (Control)\":in_vitro_functionality_control_closing_volume_unit,\n",
    "            \"Unit (Implant)\":in_vitro_functionality_implant_closing_volume_unit,\n",
    "            \"Control_sample_code\":in_vitro_functionality_control_closing_volume_sample_code ,\n",
    "            \"Implant_sample_code\":in_vitro_functionality_implant_closing_volume_sample_code \n",
    "        },\n",
    "        \"Leakage_volume\":{\n",
    "            \"Control_sample_values\":in_vitro_functionality_control_leakage_volume_values,\n",
    "            \"Implant_sample_values\":in_vitro_functionality_implant_leakage_volume_values,\n",
    "            \"Unit (Control)\":in_vitro_functionality_control_leakage_volume_unit,\n",
    "            \"Unit (Implant)\":in_vitro_functionality_implant_leakage_volume_unit,\n",
    "            \"Control_sample_code\":in_vitro_functionality_control_leakage_volume_sample_code,\n",
    "            \"Implant_sample_code\":in_vitro_functionality_implant_leakage_volume_sample_code\n",
    "        },\n",
    "        \"Stroke_volume\":{\n",
    "            \"Control_sample_values\":in_vitro_functionality_control_stroke_volume_values,\n",
    "            \"Implant_sample_values\":in_vitro_functionality_implant_stroke_volume_values,\n",
    "            \"Unit (Control)\":in_vitro_functionality_control_stroke_volume_unit,\n",
    "            \"Unit (Implant)\":in_vitro_functionality_implant_stroke_volume_unit,\n",
    "            \"Control_sample_code\":in_vitro_functionality_control_stroke_volume_sample_code,\n",
    "            \"Implant_sample_code\":in_vitro_functionality_implant_stroke_volume_sample_code\n",
    "        },\n",
    "        \"Orefice_area\":{\n",
    "            \"Control_sample_values\":in_vitro_functionality_control_orefice_area_values,\n",
    "            \"Implant_sample_values\":in_vitro_functionality_implant_orefice_area_values,\n",
    "            \"Unit (Control)\":in_vitro_functionality_control_orefice_area_unit,\n",
    "            \"Unit (Implant)\":in_vitro_functionality_implant_orefice_area_unit,\n",
    "            \"Control_sample_code\":in_vitro_functionality_control_orefice_area_sample_code,\n",
    "            \"Implant_sample_code\":in_vitro_functionality_implant_orefice_area_sample_code\n",
    "        }\n",
    "    }\n",
    "    study_results_items.append(in_vitro_results_object)\n",
    "if long_term_follow_up_performed.upper() == \"YES\":\n",
    "    long_term_results_object={\n",
    "        \"Name\":\"Long term follow-up results\",\n",
    "        \"Number_of_samples\":long_term_follow_up_number_of_samples,\n",
    "        \"Number_of_control_samples\":long_term_follow_up_number_of_control_samples,\n",
    "        \"Number_of_explant_samples\":long_term_follow_up_number_of_explant_samples,\n",
    "        \"Leaflet\":{\n",
    "            \"Length\":{\n",
    "            \"Name\":\"Length\",\n",
    "            \"Length_control\":long_term_follow_up_leaflet_length_control,\n",
    "            \"Length_explant\":long_term_follow_up_leaflet_length_explant,\n",
    "            \"Measurement value\":long_term_follow_up_leaflet_length_meaning\n",
    "            },\n",
    "            \"Thickness\":{\n",
    "                \"Name\":\"Thickness\",\n",
    "                \"Thickness_control\":long_term_follow_up_leaflet_thickness_control,\n",
    "                \"Thickness_explant\":long_term_follow_up_leaflet_thickness_explant,\n",
    "                \"Measurement_value\":long_term_follow_up_leaflet_thickness_meaning\n",
    "            }\n",
    "         }\n",
    "    }\n",
    "    study_results_items.append(long_term_results_object)\n"
   ]
  },
  {
   "cell_type": "code",
   "execution_count": 126,
   "metadata": {},
   "outputs": [],
   "source": [
    "document={\n",
    "    'Study_type':Study_type,\n",
    "    'ID':ID,\n",
    "    'Name':Study_Name,\n",
    "    'Project':Project,\n",
    "    'Title':Title,\n",
    "    'Lead_author':Lead_author,\n",
    "    'Principal_investigator':Principal_investigator,\n",
    "    'DOI':DOI,\n",
    "    'Date':Date,\n",
    "    'Summary':Summary,\n",
    "    'Study_design':study_design_items,\n",
    "    'Study_results':study_results_items    \n",
    "}"
   ]
  },
  {
   "cell_type": "code",
   "execution_count": 127,
   "metadata": {},
   "outputs": [
    {
     "data": {
      "text/plain": [
       "{'Study_type': 'Heart valve study',\n",
       " 'ID': 'hv005',\n",
       " 'Name': 'Living tissue-engineered heart valves',\n",
       " 'Project': 'TEHVs',\n",
       " 'Title': 'Trans-apical versus surgical implantation of autologous ovine tissue-engineered heart valves.',\n",
       " 'Lead_author': 'Petra E. Dijkman',\n",
       " 'Principal_investigator': 'Simon P. Hoerstrup ',\n",
       " 'DOI': 'PMID: 23167234',\n",
       " 'Date': 'September 2012',\n",
       " 'Summary': \"Living tissue-engineered heart valves (TEHVs) based on rapidly degrading scaffolds and autologous cells might overcome the limitations of today's valve substitutes. Following minimally invasive trans-apical implantation into an ovine model, TEHVs showed adequate in-vivo functionality, but a thickening of the leaflets was observed. In order to evaluate the impact of the substantial tissue deformations of TEHVs associated with the crimping procedure during minimally invasive delivery, trans-apical and conventional implantation technologies were compared in an ovine model.This direct comparison of trans-apical and conventional surgical implantation techniques showed that crimping had no adverse effect on the integrity or functional outcome of TEHVs. This suggests that a thickening of TEHVs in vivo is neither caused by nor enhanced by the crimping procedure, but represents a functional tissue remodeling process.\",\n",
       " 'Study_design': [{'Name': 'Animal implantation',\n",
       "   'Implantation_method': 'Minimally invasive implantation',\n",
       "   'Implantation_procedure': 'Transapical',\n",
       "   'Implantation_location': 'Pulmonary position',\n",
       "   'Scaffold': 'PGA/P4HB scaffold',\n",
       "   'Stent_present': 'Yes',\n",
       "   'Stent_type': 'self-expandable stent',\n",
       "   'Scaffold_design_class': 'Old design',\n",
       "   'Animal_model': 'Sheep'},\n",
       "  {'Name': 'Tissue Engineered Heart Valves',\n",
       "   'Number_of_samples': '6',\n",
       "   'Mesh': {'Material': 'Poly-glycolic acid/poly-4-hydroxybutyrate',\n",
       "    'Abbreviation': 'PGA/p4HB',\n",
       "    'Thickness': 'N/A'},\n",
       "   'Specific_gravity': 'N/A',\n",
       "   'Coating': {'Name': 'Fibrin',\n",
       "    'Abbreviation': 'Fb',\n",
       "    'Manufacturer': 'N/A',\n",
       "    'Country': 'N/A'},\n",
       "   'Sew': {'Name': 'N/A', 'Manufacturer': 'N/A', 'Country': 'N/A'},\n",
       "   'Stent': {'Present': 'Yes',\n",
       "    'Stent_type': 'Self-expandable stent',\n",
       "    'Stent_length': 'N/A',\n",
       "    'Outside_diameter': '25 mm',\n",
       "    'Manufacturer': 'N/A',\n",
       "    'Country': 'N/A'},\n",
       "   'Images': ['TEHVs_transapical.png', 'TEHVs_transapical_scheme.png']},\n",
       "  {'Name': 'Histology experiment',\n",
       "   'Staining': 'Hematoxylin and Eosin, Alpha-smooth muscle actin, Elastic van Gieson, von Willebrand factor staining',\n",
       "   'Read_outs': 'Tissue morphology, alpha-SMA, Collagen and elastic fibers, and von Willbrand factor'}],\n",
       " 'Study_results': [{'Name': 'Implantation results',\n",
       "   'Number_implants_at_start': '6',\n",
       "   'Perioperative_morbidity': 'No',\n",
       "   'Perioperative_mortality': 'No',\n",
       "   'Implantation_all_valves_success': 'Yes',\n",
       "   'Successful_implanted_valves': '6'},\n",
       "  {'Name': 'In vivo performance',\n",
       "   'Number_implants_start': '6',\n",
       "   'Number_implants_end': '6',\n",
       "   'Animals_euthanized': 'None',\n",
       "   'Euthanization_time': 'None',\n",
       "   'Reason_euthanization': 'No reason to euthanize animals.'},\n",
       "  {'Name': 'Histology experiment results',\n",
       "   'Summary': 'Deposition of collagen was observed in the leaf. On some explants there was evidence of an endothelial layer on the leaflets after four weeks. Moreover, more explants were covered with endothelial cells after 8 weeks. The wall region contained wavy and aligned collagen bundles, as well as mature vessel formation. The wall was covered with von Willebrand factor positive cells, which were indicative of an endothelial lining. Macrophages and giant cells were detected locally near remnants of scaffold material and at the demarcation line. The microscopic evaluation of the individua lexplants showed small aberrations to the general descriptions given above, but no typical patterns regarding the progress of remodeling or endothelial covering were observed that might be related to whether endothelial cells were seeded prior to implantation or to the in-vivo follow up period. Progression of remodeling of the wall in the surgically implanted TEHVs was delayed compared to that of the trans-apically implanted TEHV, as increasingly larger areas of highly organized tissue were observed in the wall of the trans-apically implanted TEHVs. Moreover, the wall of the trans-apically implanted TEHV revealed more α-SMA-positive cells'},\n",
       "  {'Name': 'Macroscopic appearance',\n",
       "   'Summary': 'The macroscopic appearance of the TEHVs before implantation was similar for all valves, independent of the in-vitro culture protocol employed, or their diameter. All explanted valves demonstrated a thickened tissue formation and shrinkage of the leaflets, regardless of any different in-vitro culture protocols, endothelial pre-seeding, implantation methods, and follow up periods. However, the appearance of the ventricular side of the valves explanted after seven or eight weeks was smoother when compared to the three- or four-week explants. In all explants, there was no macroscopic evidence of calcification, structural damage, or aneurysm formation. The wall of all explants was integrated into the adjacent tissue through the holes of the stent. In all explants, there was no macroscopic evidence of calcification, structural damage, or aneurysm formation. The wall of all explants was integrated into the adjacent tissue through the holes of the stent. The degree of integration was higher for the trans-apically implanted TEHVs compared to the surgically implanted TEHVs, as separation of the native wall surrounding the stent was more difficult.',\n",
       "   'Explant_image': ['TEHVs_Transapical_appearance.PNG']}]}"
      ]
     },
     "execution_count": 127,
     "metadata": {},
     "output_type": "execute_result"
    }
   ],
   "source": [
    "document"
   ]
  },
  {
   "cell_type": "markdown",
   "metadata": {},
   "source": [
    "<h3> Write to json file </h3>"
   ]
  },
  {
   "cell_type": "code",
   "execution_count": 128,
   "metadata": {},
   "outputs": [],
   "source": [
    "file_name=\"TEHVs_transapical_BMA.json\""
   ]
  },
  {
   "cell_type": "code",
   "execution_count": 129,
   "metadata": {},
   "outputs": [],
   "source": [
    "import json\n",
    "import os"
   ]
  },
  {
   "cell_type": "code",
   "execution_count": 159,
   "metadata": {},
   "outputs": [],
   "source": [
    "# check if file does not exist\n",
    "files_in_directory=os.listdir"
   ]
  },
  {
   "cell_type": "code",
   "execution_count": 130,
   "metadata": {},
   "outputs": [],
   "source": [
    "with open(file_name, 'w') as outfile:\n",
    "    json.dump(document, outfile)"
   ]
  },
  {
   "cell_type": "code",
   "execution_count": null,
   "metadata": {},
   "outputs": [],
   "source": []
  }
 ],
 "metadata": {
  "kernelspec": {
   "display_name": "Python 3",
   "language": "python",
   "name": "python3"
  },
  "language_info": {
   "codemirror_mode": {
    "name": "ipython",
    "version": 3
   },
   "file_extension": ".py",
   "mimetype": "text/x-python",
   "name": "python",
   "nbconvert_exporter": "python",
   "pygments_lexer": "ipython3",
   "version": "3.8.5"
  }
 },
 "nbformat": 4,
 "nbformat_minor": 4
}
