{
 "cells": [
  {
   "cell_type": "markdown",
   "metadata": {},
   "source": [
    "<h3> Biomaterial Atlas: add a biomaterials screen </h3>"
   ]
  },
  {
   "cell_type": "markdown",
   "metadata": {},
   "source": [
    "<p> This Jupyter notebook will guide you through the metadata fields of the Data Document Model (DDM) for a biomaterials screen. </p>\n",
    "\n",
    "<p> Every keyword will be given a value based on your input. In this Jupyter Notebook, you have to evaluate a cell before you can type a value. In this way, you can always rerun a cell if you believe there are some spelling errors or general mistakes.<p>"
   ]
  },
  {
   "cell_type": "code",
   "execution_count": null,
   "metadata": {},
   "outputs": [],
   "source": [
    "import ipywidgets as widgets"
   ]
  },
  {
   "cell_type": "markdown",
   "metadata": {},
   "source": [
    "<h3> Metadata: Project level </h3>"
   ]
  },
  {
   "cell_type": "markdown",
   "metadata": {},
   "source": [
    "Provide the study type"
   ]
  },
  {
   "cell_type": "code",
   "execution_count": 1,
   "metadata": {},
   "outputs": [],
   "source": [
    "Study_type = 'Biomaterials Screen'"
   ]
  },
  {
   "cell_type": "code",
   "execution_count": 2,
   "metadata": {},
   "outputs": [
    {
     "name": "stdout",
     "output_type": "stream",
     "text": [
      "Provide the study ID: BIS036\n"
     ]
    }
   ],
   "source": [
    "ID = input('Provide the study ID: ')"
   ]
  },
  {
   "cell_type": "code",
   "execution_count": 3,
   "metadata": {},
   "outputs": [
    {
     "name": "stdout",
     "output_type": "stream",
     "text": [
      "Provide  the study name (3 keywords): Macrophage attachment and differentiation\n"
     ]
    }
   ],
   "source": [
    "Study_Name=input('Provide  the study name (3 keywords): ')"
   ]
  },
  {
   "cell_type": "code",
   "execution_count": 5,
   "metadata": {},
   "outputs": [
    {
     "name": "stdout",
     "output_type": "stream",
     "text": [
      "Provide the project name: Monocyte attachment\n"
     ]
    }
   ],
   "source": [
    "Project=input(\"Provide the project name: \")"
   ]
  },
  {
   "cell_type": "code",
   "execution_count": 6,
   "metadata": {},
   "outputs": [
    {
     "name": "stdout",
     "output_type": "stream",
     "text": [
      "Provide the title of the study (publication title if applicable): Immune modulation by design: using topography to control human monocyte attachment and macrophage differentiation\n"
     ]
    }
   ],
   "source": [
    "Title=input(\"Provide the title of the study (publication title if applicable): \")"
   ]
  },
  {
   "cell_type": "code",
   "execution_count": 7,
   "metadata": {},
   "outputs": [
    {
     "name": "stdout",
     "output_type": "stream",
     "text": [
      "Provide  the first and last name of the lead author: Matthew J. Vassey\n"
     ]
    }
   ],
   "source": [
    "Lead_author=input(\"Provide  the first and last name of the lead author: \")\n"
   ]
  },
  {
   "cell_type": "code",
   "execution_count": 8,
   "metadata": {},
   "outputs": [
    {
     "name": "stdout",
     "output_type": "stream",
     "text": [
      "Provide  the first and last name of the PI: Morgan R. Alexander\n"
     ]
    }
   ],
   "source": [
    "Principal_investigator=input(\"Provide  the first and last name of the PI: \")"
   ]
  },
  {
   "cell_type": "code",
   "execution_count": 9,
   "metadata": {},
   "outputs": [
    {
     "name": "stdout",
     "output_type": "stream",
     "text": [
      "Provide  the DOI: (if not applicable type N/A): 10.1002/advs.201903392\n"
     ]
    }
   ],
   "source": [
    "DOI=input(\"Provide  the DOI: (if not applicable type N/A): \")"
   ]
  },
  {
   "cell_type": "code",
   "execution_count": 10,
   "metadata": {},
   "outputs": [
    {
     "name": "stdout",
     "output_type": "stream",
     "text": [
      "Provide the date of the study: April 2020\n"
     ]
    }
   ],
   "source": [
    "Date=input(\"Provide the date of the study: \")"
   ]
  },
  {
   "cell_type": "markdown",
   "metadata": {},
   "source": [
    "<b> Summary: </b> the summary gives the overall findings and conclusion of the paper. This can be seen as a short abstract of the study"
   ]
  },
  {
   "cell_type": "code",
   "execution_count": 11,
   "metadata": {},
   "outputs": [
    {
     "name": "stdout",
     "output_type": "stream",
     "text": [
      "Provide  the summary of the study: Macrophages play a central role in orchestrating immune responses to foreign materials, which are often responsible for the failure of implanted medical devices. Material topography is known to influence macrophage attachment and phenotype, providing opportunities for the rational design of “immune-instructive” topographies to modulate macrophage function and thus foreign body responses to biomaterials. However, no generalizable understanding of the inter-relationship between topography and cell response exists. A high throughput screening approach is therefore utilized to investigate the relationship between topography and human monocyte–derived macrophage attachment and phenotype, using a diverse library of 2176 micropatterns generated by an algorithm. This reveals that micropillars 5–10 micrometer in diameter play a dominant role in driving macrophage attachment compared to the many other topographies screened, an observation that aligns with studies of the interaction of macrophages with particles. Combining the pillar size with the micropillar density is found to be key in modulation of cell phenotype from pro to anti-inflammatory states. Machine learning is used to successfully build a model that correlates cell attachment and phenotype with a selection of descriptors, illustrating that materials can potentially be designed to modulate inflammatory responses for future applications in the fight against foreign body rejection of medical devices.\n"
     ]
    }
   ],
   "source": [
    "Summary=input(\"Provide  the summary of the study: \")"
   ]
  },
  {
   "cell_type": "markdown",
   "metadata": {},
   "source": [
    "<h3> Metadata: Study design level </h3>"
   ]
  },
  {
   "cell_type": "markdown",
   "metadata": {},
   "source": [
    "<h5> Cell Culture </h5>"
   ]
  },
  {
   "cell_type": "code",
   "execution_count": 12,
   "metadata": {},
   "outputs": [
    {
     "name": "stdout",
     "output_type": "stream",
     "text": [
      "Did you perform a cell culture? (Yes or No) Yes\n"
     ]
    }
   ],
   "source": [
    "cell_culture_performed = input(\"Did you perform a cell culture? (Yes or No) \")"
   ]
  },
  {
   "cell_type": "code",
   "execution_count": 13,
   "metadata": {},
   "outputs": [
    {
     "name": "stdout",
     "output_type": "stream",
     "text": [
      "Provide  the cell type: purified monocytes\n"
     ]
    }
   ],
   "source": [
    "Cell_type = input(\"Provide  the cell type: \")"
   ]
  },
  {
   "cell_type": "code",
   "execution_count": 14,
   "metadata": {},
   "outputs": [
    {
     "name": "stdout",
     "output_type": "stream",
     "text": [
      "Provide  the passage number: N/A\n"
     ]
    }
   ],
   "source": [
    "Passage_number = input(\"Provide  the passage number: \")"
   ]
  },
  {
   "cell_type": "code",
   "execution_count": 15,
   "metadata": {},
   "outputs": [
    {
     "name": "stdout",
     "output_type": "stream",
     "text": [
      "Provide the seeding medium type: RPMI 1640 Medium\n"
     ]
    }
   ],
   "source": [
    "seeding_medium_type = input(\"Provide the seeding medium type: \")"
   ]
  },
  {
   "cell_type": "code",
   "execution_count": 16,
   "metadata": {},
   "outputs": [
    {
     "name": "stdout",
     "output_type": "stream",
     "text": [
      "Provide the medium details: RPMI 1640 Medium\n"
     ]
    }
   ],
   "source": [
    "seeding_medium_medium = input(\"Provide the medium details: \")"
   ]
  },
  {
   "cell_type": "code",
   "execution_count": 17,
   "metadata": {},
   "outputs": [
    {
     "name": "stdout",
     "output_type": "stream",
     "text": [
      "Provide the serum details: 10% Fetal Bovine Serum\n"
     ]
    }
   ],
   "source": [
    "seeding_medium_serum = input(\"Provide the serum details: \")"
   ]
  },
  {
   "cell_type": "code",
   "execution_count": 18,
   "metadata": {},
   "outputs": [
    {
     "name": "stdout",
     "output_type": "stream",
     "text": [
      "Provide the type of antibiotics used: (type none if not used) Penicillin and streptomycin\n"
     ]
    }
   ],
   "source": [
    "seeding_medium_antibiotics = input(\"Provide the type of antibiotics used: (type none if not used) \")"
   ]
  },
  {
   "cell_type": "code",
   "execution_count": 19,
   "metadata": {},
   "outputs": [
    {
     "name": "stdout",
     "output_type": "stream",
     "text": [
      "Provide the components: L-glutamine\n"
     ]
    }
   ],
   "source": [
    "seeding_medium_components = input(\"Provide the components: \")"
   ]
  },
  {
   "cell_type": "code",
   "execution_count": 20,
   "metadata": {},
   "outputs": [
    {
     "name": "stdout",
     "output_type": "stream",
     "text": [
      "Provide the components concentration: 2 mM\n"
     ]
    }
   ],
   "source": [
    "seeding_medium_components_concentration = input(\"Provide the components concentration: \")"
   ]
  },
  {
   "cell_type": "markdown",
   "metadata": {},
   "source": [
    "<h5> Biomaterials screen details </h5>"
   ]
  },
  {
   "cell_type": "code",
   "execution_count": 21,
   "metadata": {},
   "outputs": [
    {
     "name": "stdout",
     "output_type": "stream",
     "text": [
      "Did you perform a screen? (Yes or No) Yes\n"
     ]
    }
   ],
   "source": [
    "biomaterials_screen_performed = input(\"Did you perform a screen? (Yes or No) \")"
   ]
  },
  {
   "cell_type": "code",
   "execution_count": 22,
   "metadata": {},
   "outputs": [
    {
     "name": "stdout",
     "output_type": "stream",
     "text": [
      "Provide the screening type: TopoChip screen\n"
     ]
    }
   ],
   "source": [
    "biomaterials_screen_type = input(\"Provide the screening type: \")"
   ]
  },
  {
   "cell_type": "code",
   "execution_count": 23,
   "metadata": {},
   "outputs": [
    {
     "name": "stdout",
     "output_type": "stream",
     "text": [
      "Provide the design type: Surfaces\n"
     ]
    }
   ],
   "source": [
    "biomaterials_design_type = input(\"Provide the design type: \")"
   ]
  },
  {
   "cell_type": "code",
   "execution_count": 24,
   "metadata": {},
   "outputs": [
    {
     "name": "stdout",
     "output_type": "stream",
     "text": [
      "Provide the scale of the platform: micrometer\n"
     ]
    }
   ],
   "source": [
    "biomaterials_feature_scale = input(\"Provide the scale of the platform: \")"
   ]
  },
  {
   "cell_type": "code",
   "execution_count": 25,
   "metadata": {},
   "outputs": [
    {
     "name": "stdout",
     "output_type": "stream",
     "text": [
      "Provide the base material information: Polystyrene\n"
     ]
    }
   ],
   "source": [
    "biomaterials_base_material = input(\"Provide the base material information: \")"
   ]
  },
  {
   "cell_type": "code",
   "execution_count": 26,
   "metadata": {},
   "outputs": [
    {
     "name": "stdout",
     "output_type": "stream",
     "text": [
      "Provide the details on surface treatment (N/A if not applicable): Oxygen-plasma treatment\n"
     ]
    }
   ],
   "source": [
    "biomaterials_surface_treatment = input(\"Provide the details on surface treatment (N/A if not applicable): \")"
   ]
  },
  {
   "cell_type": "code",
   "execution_count": 27,
   "metadata": {},
   "outputs": [
    {
     "name": "stdout",
     "output_type": "stream",
     "text": [
      "Provide details on the material coating: None\n"
     ]
    }
   ],
   "source": [
    "biomaterials_coating = input(\"Provide details on the material coating: \")"
   ]
  },
  {
   "cell_type": "code",
   "execution_count": 28,
   "metadata": {},
   "outputs": [
    {
     "name": "stdout",
     "output_type": "stream",
     "text": [
      "Provide the number of replicates: 9\n"
     ]
    }
   ],
   "source": [
    "biomaterials_number_of_replicates = input(\"Provide the number of replicates: \")"
   ]
  },
  {
   "cell_type": "code",
   "execution_count": 79,
   "metadata": {},
   "outputs": [
    {
     "name": "stdout",
     "output_type": "stream",
     "text": [
      "Provide a summary of the experiment: Monocytes were isolated from peripheral blood mononuclear cells (PBMCs) from anonymous human blood samples obtained in the form of buffy coats, using CD14 magnetic beads (Miltenyi Biotec) and used for the TopoChip screening. These cells were at no point stimulated or exposed to any exogenous cytokines. Using oxygen plasma etched polystyrene TopoChips in a serum containing medium, high throughput screening was carried out using monocytes obtained from five independent donors.\n"
     ]
    }
   ],
   "source": [
    "biomaterials_summary = input(\"Provide a summary of the experiment: \")"
   ]
  },
  {
   "cell_type": "markdown",
   "metadata": {},
   "source": [
    "<h5> Fluorescence imaging metadata </h5>"
   ]
  },
  {
   "cell_type": "code",
   "execution_count": 31,
   "metadata": {},
   "outputs": [
    {
     "name": "stdout",
     "output_type": "stream",
     "text": [
      "Did you perform an imaging experiment: (Yes or No) Yes\n"
     ]
    }
   ],
   "source": [
    "imaging_performed = input(\"Did you perform an imaging experiment: (Yes or No) \")"
   ]
  },
  {
   "cell_type": "code",
   "execution_count": 32,
   "metadata": {},
   "outputs": [
    {
     "name": "stdout",
     "output_type": "stream",
     "text": [
      "Provide the microscope type: Zeiss Axio Observer Z1 microscope equiped with Hamamatsu Flash 4.0 CMMOS camera.\n"
     ]
    }
   ],
   "source": [
    "imaging_micropscope = input(\"Provide the microscope type: \")"
   ]
  },
  {
   "cell_type": "code",
   "execution_count": 33,
   "metadata": {},
   "outputs": [
    {
     "name": "stdout",
     "output_type": "stream",
     "text": [
      "Provide the date of the experiment: 2020\n"
     ]
    }
   ],
   "source": [
    "imaging_date = input(\"Provide the date of the experiment: \")"
   ]
  },
  {
   "cell_type": "markdown",
   "metadata": {},
   "source": [
    "Now you need to provide the label information for each label used. By default, this template assumes you have three labels."
   ]
  },
  {
   "cell_type": "code",
   "execution_count": 34,
   "metadata": {},
   "outputs": [
    {
     "name": "stdout",
     "output_type": "stream",
     "text": [
      "Give the first antibody for label 1: None\n"
     ]
    }
   ],
   "source": [
    "imaging_label1_first_antibody = input(\"Give the first antibody for label 1: \")"
   ]
  },
  {
   "cell_type": "code",
   "execution_count": 35,
   "metadata": {},
   "outputs": [
    {
     "name": "stdout",
     "output_type": "stream",
     "text": [
      "Give the second antibody for label 1: None\n"
     ]
    }
   ],
   "source": [
    "imaging_label1_second_antibody = input(\"Give the second antibody for label 1: \")"
   ]
  },
  {
   "cell_type": "code",
   "execution_count": 36,
   "metadata": {},
   "outputs": [
    {
     "name": "stdout",
     "output_type": "stream",
     "text": [
      "Give the target for label 1: Nucleus\n"
     ]
    }
   ],
   "source": [
    "imaging_label1_target = input(\"Give the target for label 1: \")"
   ]
  },
  {
   "cell_type": "code",
   "execution_count": 37,
   "metadata": {},
   "outputs": [
    {
     "name": "stdout",
     "output_type": "stream",
     "text": [
      "Give the fluorescent dye for label 1: DAPI\n"
     ]
    }
   ],
   "source": [
    "imaging_label1_fluorescent_dye = input(\"Give the fluorescent dye for label 1: \")"
   ]
  },
  {
   "cell_type": "code",
   "execution_count": 38,
   "metadata": {},
   "outputs": [
    {
     "name": "stdout",
     "output_type": "stream",
     "text": [
      "Give the excitation wavelength for label 1: 385 nm\n"
     ]
    }
   ],
   "source": [
    "imaging_label1_excitation_wavelength = input(\"Give the excitation wavelength for label 1: \")"
   ]
  },
  {
   "cell_type": "code",
   "execution_count": 39,
   "metadata": {},
   "outputs": [
    {
     "name": "stdout",
     "output_type": "stream",
     "text": [
      "Give the emission wavelength for label 1: 461 nm\n"
     ]
    }
   ],
   "source": [
    "imaging_label1_emission_wavelength = input(\"Give the emission wavelength for label 1: \")"
   ]
  },
  {
   "cell_type": "code",
   "execution_count": 40,
   "metadata": {},
   "outputs": [
    {
     "name": "stdout",
     "output_type": "stream",
     "text": [
      "Give the first antibody for label 2: None\n"
     ]
    }
   ],
   "source": [
    "imaging_label2_first_antibody = input(\"Give the first antibody for label 2: \")"
   ]
  },
  {
   "cell_type": "code",
   "execution_count": 41,
   "metadata": {},
   "outputs": [
    {
     "name": "stdout",
     "output_type": "stream",
     "text": [
      "Give the second antibody for label 2: None\n"
     ]
    }
   ],
   "source": [
    "imaging_label2_second_antibody = input(\"Give the second antibody for label 2: \")"
   ]
  },
  {
   "cell_type": "code",
   "execution_count": 42,
   "metadata": {},
   "outputs": [
    {
     "name": "stdout",
     "output_type": "stream",
     "text": [
      "Give the target for label 2: Plasma membrane\n"
     ]
    }
   ],
   "source": [
    "imaging_label2_target = input(\"Give the target for label 2: \")"
   ]
  },
  {
   "cell_type": "code",
   "execution_count": 43,
   "metadata": {},
   "outputs": [
    {
     "name": "stdout",
     "output_type": "stream",
     "text": [
      "Give the fluorescent dye for label 2: CellMask\n"
     ]
    }
   ],
   "source": [
    "imaging_label2_fluorescent_dye = input(\"Give the fluorescent dye for label 2: \")"
   ]
  },
  {
   "cell_type": "code",
   "execution_count": 44,
   "metadata": {},
   "outputs": [
    {
     "name": "stdout",
     "output_type": "stream",
     "text": [
      "Give the excitation wavelength for label 2: 556 nm\n"
     ]
    }
   ],
   "source": [
    "imaging_label2_excitation_wavelength = input(\"Give the excitation wavelength for label 2: \")"
   ]
  },
  {
   "cell_type": "code",
   "execution_count": 45,
   "metadata": {},
   "outputs": [
    {
     "name": "stdout",
     "output_type": "stream",
     "text": [
      "Give the emission wavelength for label 2: 572 nm\n"
     ]
    }
   ],
   "source": [
    "imaging_label2_emission_wavelength = input(\"Give the emission wavelength for label 2: \")"
   ]
  },
  {
   "cell_type": "code",
   "execution_count": 46,
   "metadata": {},
   "outputs": [
    {
     "name": "stdout",
     "output_type": "stream",
     "text": [
      "Give the first antibody for label 3: None\n"
     ]
    }
   ],
   "source": [
    "imaging_label3_first_antibody = input(\"Give the first antibody for label 3: \")"
   ]
  },
  {
   "cell_type": "code",
   "execution_count": 47,
   "metadata": {},
   "outputs": [
    {
     "name": "stdout",
     "output_type": "stream",
     "text": [
      "Give the second antibody for label 3: None\n"
     ]
    }
   ],
   "source": [
    "imaging_label3_second_antibody = input(\"Give the second antibody for label 3: \")"
   ]
  },
  {
   "cell_type": "code",
   "execution_count": 48,
   "metadata": {},
   "outputs": [
    {
     "name": "stdout",
     "output_type": "stream",
     "text": [
      "Give the target for label 3: None\n"
     ]
    }
   ],
   "source": [
    "imaging_label3_target = input(\"Give the target for label 3: \")"
   ]
  },
  {
   "cell_type": "code",
   "execution_count": 49,
   "metadata": {},
   "outputs": [
    {
     "name": "stdout",
     "output_type": "stream",
     "text": [
      "Give the fluorescent dye for label 3: None\n"
     ]
    }
   ],
   "source": [
    "imaging_label3_fluorescent_dye = input(\"Give the fluorescent dye for label 3: \")"
   ]
  },
  {
   "cell_type": "code",
   "execution_count": 50,
   "metadata": {},
   "outputs": [
    {
     "name": "stdout",
     "output_type": "stream",
     "text": [
      "Give the excitation wavelength for label 3: None\n"
     ]
    }
   ],
   "source": [
    "imaging_label3_excitation_wavelength = input(\"Give the excitation wavelength for label 3: \")"
   ]
  },
  {
   "cell_type": "code",
   "execution_count": 51,
   "metadata": {},
   "outputs": [
    {
     "name": "stdout",
     "output_type": "stream",
     "text": [
      "Give the emission wavelength for label 3: None\n"
     ]
    }
   ],
   "source": [
    "imaging_label3_emission_wavelength = input(\"Give the emission wavelength for label 3: \")"
   ]
  },
  {
   "cell_type": "code",
   "execution_count": 52,
   "metadata": {},
   "outputs": [
    {
     "name": "stdout",
     "output_type": "stream",
     "text": [
      "Give the name for each channel: DAPI, CellMask\n"
     ]
    }
   ],
   "source": [
    "imaging_channel_names = input(\"Give the name for each channel: \")"
   ]
  },
  {
   "cell_type": "markdown",
   "metadata": {},
   "source": [
    "<h5> Surface validation </h5>"
   ]
  },
  {
   "cell_type": "code",
   "execution_count": 53,
   "metadata": {},
   "outputs": [
    {
     "name": "stdout",
     "output_type": "stream",
     "text": [
      "Did you perform a validation study: (Yes or No) No\n"
     ]
    }
   ],
   "source": [
    "surface_validation_performed = input(\"Did you perform a validation study: (Yes or No) \")"
   ]
  },
  {
   "cell_type": "code",
   "execution_count": null,
   "metadata": {},
   "outputs": [],
   "source": [
    "surface_validation_number_selected_surfaces = input(\"Provide the number of selected surfaces for validation: \")"
   ]
  },
  {
   "cell_type": "code",
   "execution_count": null,
   "metadata": {},
   "outputs": [],
   "source": [
    "selected_surfaces_feature_id = input(\"Provide the surface feature id: \")"
   ]
  },
  {
   "cell_type": "code",
   "execution_count": null,
   "metadata": {},
   "outputs": [],
   "source": [
    "selected_surface_id = input(\"Provide the surface id (if they do not match the feature id): \")"
   ]
  },
  {
   "cell_type": "markdown",
   "metadata": {},
   "source": [
    "<h5> qPCR experiment </h5>"
   ]
  },
  {
   "cell_type": "code",
   "execution_count": 54,
   "metadata": {},
   "outputs": [
    {
     "name": "stdout",
     "output_type": "stream",
     "text": [
      "Did you perform a qpcr: (Yes or No) No\n"
     ]
    }
   ],
   "source": [
    "qpcr_performed = input(\"Did you perform a qpcr: (Yes or No) \")"
   ]
  },
  {
   "cell_type": "code",
   "execution_count": null,
   "metadata": {},
   "outputs": [],
   "source": [
    "qpcr_experiment_type = input('Provide the experiment type: ')"
   ]
  },
  {
   "cell_type": "code",
   "execution_count": null,
   "metadata": {},
   "outputs": [],
   "source": [
    "qpcr_cell_type = input('Provide the cell type: ')"
   ]
  },
  {
   "cell_type": "code",
   "execution_count": null,
   "metadata": {},
   "outputs": [],
   "source": [
    "qpr_time = input('Provide the time point(s): ')"
   ]
  },
  {
   "cell_type": "code",
   "execution_count": null,
   "metadata": {},
   "outputs": [],
   "source": [
    "qpcr_read_outs = input(\"Provide the read outs: \")"
   ]
  },
  {
   "cell_type": "code",
   "execution_count": null,
   "metadata": {},
   "outputs": [],
   "source": [
    "#qpcr_genes = input(\"Provide the gene names measured: \")"
   ]
  },
  {
   "cell_type": "markdown",
   "metadata": {},
   "source": [
    "<h5> Histology experiment </h5>"
   ]
  },
  {
   "cell_type": "code",
   "execution_count": 55,
   "metadata": {},
   "outputs": [
    {
     "name": "stdout",
     "output_type": "stream",
     "text": [
      "Did you perfrom a histology experiment? (Yes/No) No\n"
     ]
    }
   ],
   "source": [
    "histology_performed=input(\"Did you perfrom a histology experiment? (Yes/No) \")"
   ]
  },
  {
   "cell_type": "code",
   "execution_count": null,
   "metadata": {},
   "outputs": [],
   "source": [
    "histology_slide_scanner = input(\"Provide the name of the slide scanner: \")"
   ]
  },
  {
   "cell_type": "code",
   "execution_count": null,
   "metadata": {},
   "outputs": [],
   "source": [
    "histology_staining = input(\"Provide information on the performed staining: \")"
   ]
  },
  {
   "cell_type": "markdown",
   "metadata": {},
   "source": [
    "<h5> Flow cytometry </h5>"
   ]
  },
  {
   "cell_type": "code",
   "execution_count": 56,
   "metadata": {},
   "outputs": [
    {
     "name": "stdout",
     "output_type": "stream",
     "text": [
      "Did you perform a flow cytometry experiment:  (Yes/No)No\n"
     ]
    }
   ],
   "source": [
    "flow_cytometry_performed = input(\"Did you perform a flow cytometry experiment:  (Yes/No)\")"
   ]
  },
  {
   "cell_type": "code",
   "execution_count": null,
   "metadata": {},
   "outputs": [],
   "source": [
    "flow_seeding_density = input(\"Provide the cell seeding  density: \")"
   ]
  },
  {
   "cell_type": "code",
   "execution_count": null,
   "metadata": {},
   "outputs": [],
   "source": [
    "flow_culture_time = input(\"Provide the culture time: \")"
   ]
  },
  {
   "cell_type": "code",
   "execution_count": null,
   "metadata": {},
   "outputs": [],
   "source": [
    "flow_medium = input(\"Provide details of the medium: \")"
   ]
  },
  {
   "cell_type": "code",
   "execution_count": null,
   "metadata": {},
   "outputs": [],
   "source": [
    "flow_staining = input(\"Provide details of the staining: \")"
   ]
  },
  {
   "cell_type": "code",
   "execution_count": null,
   "metadata": {},
   "outputs": [],
   "source": [
    "flow_machine = input(\"Provide the name of the flow cytometry machine: \")"
   ]
  },
  {
   "cell_type": "code",
   "execution_count": null,
   "metadata": {},
   "outputs": [],
   "source": [
    "flow_replicates = input(\"Provide the number of replicates: \")"
   ]
  },
  {
   "cell_type": "markdown",
   "metadata": {},
   "source": [
    "<h5> Biomechanical test </h5>"
   ]
  },
  {
   "cell_type": "code",
   "execution_count": 57,
   "metadata": {},
   "outputs": [
    {
     "name": "stdout",
     "output_type": "stream",
     "text": [
      "Did your perform a biomechanical test: (Yes/No)No\n"
     ]
    }
   ],
   "source": [
    "biomechenical_test_performed=input(\"Did your perform a biomechanical test: (Yes/No)\")"
   ]
  },
  {
   "cell_type": "code",
   "execution_count": null,
   "metadata": {},
   "outputs": [],
   "source": [
    "biomechanical_test_type=input(\"Provide details on the type of biomechanical test: \")"
   ]
  },
  {
   "cell_type": "code",
   "execution_count": null,
   "metadata": {},
   "outputs": [],
   "source": [
    "biomechanical_load_cell=input(\"Provide details on the load cell: \")"
   ]
  },
  {
   "cell_type": "code",
   "execution_count": null,
   "metadata": {},
   "outputs": [],
   "source": [
    "biomechanical_test_force=input(\"Provide details of the applied force: \")"
   ]
  },
  {
   "cell_type": "markdown",
   "metadata": {},
   "source": [
    "<h5> Animal study </h5>"
   ]
  },
  {
   "cell_type": "code",
   "execution_count": 59,
   "metadata": {},
   "outputs": [
    {
     "name": "stdout",
     "output_type": "stream",
     "text": [
      "Did your perform an animal study: (Yes/No)Yes\n"
     ]
    }
   ],
   "source": [
    "animal_study_performed = input(\"Did your perform an animal study: (Yes/No)\")"
   ]
  },
  {
   "cell_type": "code",
   "execution_count": 60,
   "metadata": {},
   "outputs": [
    {
     "name": "stdout",
     "output_type": "stream",
     "text": [
      "Provide details of the organism: Mice\n"
     ]
    }
   ],
   "source": [
    "animal_organism = input(\"Provide details of the organism: \")"
   ]
  },
  {
   "cell_type": "code",
   "execution_count": 61,
   "metadata": {},
   "outputs": [
    {
     "name": "stdout",
     "output_type": "stream",
     "text": [
      "Provide details on the species: BALB/C mice\n"
     ]
    }
   ],
   "source": [
    "animal_species = input(\"Provide details on the species: \")"
   ]
  },
  {
   "cell_type": "code",
   "execution_count": 62,
   "metadata": {},
   "outputs": [
    {
     "name": "stdout",
     "output_type": "stream",
     "text": [
      "Provide details on the sex of the animal: Female\n"
     ]
    }
   ],
   "source": [
    "animal_sex = input(\"Provide details on the sex of the animal: \")"
   ]
  },
  {
   "cell_type": "code",
   "execution_count": 63,
   "metadata": {},
   "outputs": [
    {
     "name": "stdout",
     "output_type": "stream",
     "text": [
      "Provide details on the number of replicates: N/A\n"
     ]
    }
   ],
   "source": [
    "animal_replicates = input(\"Provide details on the number of replicates: \")"
   ]
  },
  {
   "cell_type": "code",
   "execution_count": 64,
   "metadata": {},
   "outputs": [
    {
     "name": "stdout",
     "output_type": "stream",
     "text": [
      "Provide the number of replicates per surface: 1\n"
     ]
    }
   ],
   "source": [
    "animal_replicates_per_surface = input(\"Provide the number of replicates per surface: \")"
   ]
  },
  {
   "cell_type": "markdown",
   "metadata": {},
   "source": [
    "<h5> Metabolic acitivty test</h5>"
   ]
  },
  {
   "cell_type": "code",
   "execution_count": 65,
   "metadata": {},
   "outputs": [
    {
     "name": "stdout",
     "output_type": "stream",
     "text": [
      "Did your perform a metabolic activity test: (Yes/No)No\n"
     ]
    }
   ],
   "source": [
    "metabolic_activity_performed = input(\"Did you perform a metabolic activity test: (Yes/No)\")"
   ]
  },
  {
   "cell_type": "code",
   "execution_count": null,
   "metadata": {},
   "outputs": [],
   "source": [
    "metabolic_test_type=input(\"What type of metabolic test did you perform? \")"
   ]
  },
  {
   "cell_type": "code",
   "execution_count": null,
   "metadata": {},
   "outputs": [],
   "source": [
    "metabolic_test_cell_type=input(\"What cell type did you use: \")"
   ]
  },
  {
   "cell_type": "code",
   "execution_count": null,
   "metadata": {},
   "outputs": [],
   "source": [
    "metabolic_activity_culture_time=input(\"Provide the culture time: \")"
   ]
  },
  {
   "cell_type": "code",
   "execution_count": null,
   "metadata": {},
   "outputs": [],
   "source": [
    "metabolic_activity_culture_medium=input(\"Provide the culture medium type: \")"
   ]
  },
  {
   "cell_type": "markdown",
   "metadata": {},
   "source": [
    "<b> Cytokine polarization </b>"
   ]
  },
  {
   "cell_type": "code",
   "execution_count": 66,
   "metadata": {},
   "outputs": [
    {
     "name": "stdout",
     "output_type": "stream",
     "text": [
      "Did you perform an ctyokine polarization assay? (Yes/No)Yes\n"
     ]
    }
   ],
   "source": [
    "cytokine_assay_performed = input(\"Did you perform an ctyokine polarization assay? (Yes/No)\")"
   ]
  },
  {
   "cell_type": "code",
   "execution_count": 67,
   "metadata": {},
   "outputs": [
    {
     "name": "stdout",
     "output_type": "stream",
     "text": [
      "Provide the aim of the assay:Monocytes are exposed to various conditions to drive the desired polarization state.\n"
     ]
    }
   ],
   "source": [
    "experiment_aim = input(\"Provide the aim of the assay:\")"
   ]
  },
  {
   "cell_type": "code",
   "execution_count": 71,
   "metadata": {},
   "outputs": [
    {
     "name": "stdout",
     "output_type": "stream",
     "text": [
      "Cell types used for assay: Monocytes\n"
     ]
    }
   ],
   "source": [
    "cytokine_cell_type=input(\"Cell types used for assay: \")"
   ]
  },
  {
   "cell_type": "code",
   "execution_count": 68,
   "metadata": {},
   "outputs": [
    {
     "name": "stdout",
     "output_type": "stream",
     "text": [
      "Provide the added: cytokines: MO--M-CSF,M1--CM-CSF,IFN-gamma,IL-4,M2--M-CSF\n"
     ]
    }
   ],
   "source": [
    "experiment_cytokines=input(\"Provide the added: cytokines: \")"
   ]
  },
  {
   "cell_type": "code",
   "execution_count": 69,
   "metadata": {},
   "outputs": [
    {
     "name": "stdout",
     "output_type": "stream",
     "text": [
      "how are the polarization states imaged: Fluorescent imaging\n"
     ]
    }
   ],
   "source": [
    "experiment_imaging=input(\"how are the polarization states imaged: \")"
   ]
  },
  {
   "cell_type": "code",
   "execution_count": null,
   "metadata": {},
   "outputs": [],
   "source": []
  },
  {
   "cell_type": "markdown",
   "metadata": {},
   "source": [
    "<h3> Metadata: Study results level </h3>"
   ]
  },
  {
   "cell_type": "markdown",
   "metadata": {},
   "source": [
    "<h5> Biomaterials screen description </h5>"
   ]
  },
  {
   "cell_type": "code",
   "execution_count": 77,
   "metadata": {},
   "outputs": [
    {
     "name": "stdout",
     "output_type": "stream",
     "text": [
      "Provide a description of the findings: Monocytes were isolated from peripheral blood mononuclear cells (PBMCs) from anonymous human blood samples obtained in the form of buffy coats, using CD14 magnetic beads (Miltenyi Biotec) and used for the TopoChip screening. These cells were at no point stimulated or exposed to any exogenous cytokines. Using oxygen plasma etched polystyrene TopoChips in a serum containing medium, high throughput screening was carried out using monocytes obtained from five independent donors. Overall, monocyte attachment was significantly higher in the presence of topographical features compared to the flat planar control surface. Amongst the patterned surfaces, there was clear differential attachment of monocytes to specific surface types ranging from over 100 cells (per TopoUnit area) on high attachment TopoUnits compared to <10 for low attachment topographies.\n"
     ]
    }
   ],
   "source": [
    "screening_description=input(\"Provide a description of the findings: \")"
   ]
  },
  {
   "cell_type": "markdown",
   "metadata": {},
   "source": [
    "<b> Surface validation </b>"
   ]
  },
  {
   "cell_type": "code",
   "execution_count": null,
   "metadata": {},
   "outputs": [],
   "source": [
    "surface_validation_description = input(\"Provide a description of the findings: \")"
   ]
  },
  {
   "cell_type": "markdown",
   "metadata": {},
   "source": [
    "<b> qPCR results </b>"
   ]
  },
  {
   "cell_type": "code",
   "execution_count": null,
   "metadata": {},
   "outputs": [],
   "source": [
    "qpcr_result_description = input(\"Provide a description of the main finding: \")"
   ]
  },
  {
   "cell_type": "markdown",
   "metadata": {},
   "source": [
    "<b> Histology results </b>"
   ]
  },
  {
   "cell_type": "code",
   "execution_count": null,
   "metadata": {},
   "outputs": [],
   "source": [
    "histology_results_description = input(\"Provide a description of the main finding: \")"
   ]
  },
  {
   "cell_type": "markdown",
   "metadata": {},
   "source": [
    "<h5> Flow cytometry </h5>"
   ]
  },
  {
   "cell_type": "code",
   "execution_count": null,
   "metadata": {},
   "outputs": [],
   "source": [
    "flow_result_description = input(\"Provide a description of the main finding: \")"
   ]
  },
  {
   "cell_type": "markdown",
   "metadata": {},
   "source": [
    "<h5> Biomechanical test </h5>"
   ]
  },
  {
   "cell_type": "code",
   "execution_count": null,
   "metadata": {},
   "outputs": [],
   "source": [
    "biomechanical_test_description = input(\"Provide a description of the main findings: \")"
   ]
  },
  {
   "cell_type": "markdown",
   "metadata": {},
   "source": [
    "<h5> Metabolic activity test </h5>"
   ]
  },
  {
   "cell_type": "code",
   "execution_count": null,
   "metadata": {},
   "outputs": [],
   "source": [
    "metabolic_activity_description=input(\"Provide a description of the main finding: \")"
   ]
  },
  {
   "cell_type": "markdown",
   "metadata": {},
   "source": [
    "<b> Cytokine polarization </b>"
   ]
  },
  {
   "cell_type": "code",
   "execution_count": 70,
   "metadata": {},
   "outputs": [
    {
     "name": "stdout",
     "output_type": "stream",
     "text": [
      "Describe the cytokine polarization results: Overall, the proportion of the three potential phenotypes (M2/M0/M1) across the TopoChip indicated there was a range of phenotypic responses to different topographies, and no one predominant macrophage polarization state.\n"
     ]
    }
   ],
   "source": [
    "cytokine_polarization_description = input(\"Describe the cytokine polarization results: \")"
   ]
  },
  {
   "cell_type": "markdown",
   "metadata": {},
   "source": [
    "<h2> Write the documentation to a json file </h2>"
   ]
  },
  {
   "cell_type": "markdown",
   "metadata": {},
   "source": [
    "Note: this should be done only when you have filled in the fields above!"
   ]
  },
  {
   "cell_type": "markdown",
   "metadata": {},
   "source": [
    "Create the json object for the study design"
   ]
  },
  {
   "cell_type": "code",
   "execution_count": 80,
   "metadata": {},
   "outputs": [],
   "source": [
    "study_design_items=[]"
   ]
  },
  {
   "cell_type": "code",
   "execution_count": 81,
   "metadata": {},
   "outputs": [],
   "source": [
    "if cell_culture_performed.upper() =='YES':\n",
    "    cell_culture_object={\n",
    "        'Name':'Cell culture',\n",
    "        'Cell_type':Cell_type,\n",
    "        'Passage_number':Passage_number,\n",
    "        'Medium':{\n",
    "                'Type':seeding_medium_type,\n",
    "                'Medium':seeding_medium_medium,\n",
    "                'Serum':seeding_medium_serum,\n",
    "                'Antibiotics':seeding_medium_antibiotics,\n",
    "                'Medium_components':seeding_medium_components,\n",
    "                'Medium_components_concentration':seeding_medium_components_concentration \n",
    "            }\n",
    "    }\n",
    "    study_design_items.append(cell_culture_object.copy())\n",
    "    \n",
    "if biomaterials_screen_performed.upper() =='YES':\n",
    "    biomaterials_screen_object={\n",
    "        'Name':'Biomaterials screen',\n",
    "        'Type':biomaterials_screen_type,\n",
    "        'Design':biomaterials_design_type,\n",
    "        'Feature_scale':biomaterials_feature_scale,\n",
    "        'Base_material':biomaterials_base_material,\n",
    "        'Surface_treatment':biomaterials_surface_treatment,\n",
    "        'Coating':biomaterials_coating,\n",
    "        'Number_of_replicates':biomaterials_number_of_replicates,\n",
    "        'Summary':biomaterials_summary\n",
    "    }\n",
    "    study_design_items.append(biomaterials_screen_object)\n",
    "    \n",
    "if imaging_performed.upper() =='YES':\n",
    "    imaging_object={\n",
    "        'Name':\"Imaging experiment\",\n",
    "        'Type':imaging_micropscope,\n",
    "        'Date':imaging_date,\n",
    "        'Labels':{\n",
    "            'Label_1':{\n",
    "                'First_antibody':imaging_label1_first_antibody,\n",
    "                'Second_antibody':imaging_label1_second_antibody,\n",
    "                'Target':imaging_label1_target,\n",
    "                'Fluorescent dye':imaging_label1_fluorescent_dye,\n",
    "                'Excitation_wavelength':imaging_label1_excitation_wavelength,\n",
    "                'Emission_wavelength':imaging_label1_emission_wavelength\n",
    "            },\n",
    "            'Label_2':{\n",
    "                'First_antibody':imaging_label2_first_antibody,\n",
    "                'Second_antibody':imaging_label2_second_antibody,\n",
    "                'Target':imaging_label2_target,\n",
    "                'Fluorescent dye':imaging_label2_fluorescent_dye,\n",
    "                'Excitation_wavelength':imaging_label2_excitation_wavelength,\n",
    "                'Emission_wavelength':imaging_label2_emission_wavelength\n",
    "            },\n",
    "            'Label_3':{\n",
    "                'First_antibody':imaging_label3_first_antibody,\n",
    "                'Second_antibody':imaging_label3_second_antibody,\n",
    "                'Target':imaging_label3_target,\n",
    "                'Fluorescent dye':imaging_label3_fluorescent_dye,\n",
    "                'Excitation_wavelength':imaging_label3_excitation_wavelength,\n",
    "                'Emission_wavelength':imaging_label3_emission_wavelength\n",
    "            }\n",
    "        },\n",
    "        'Channel_names':imaging_channel_names\n",
    "        \n",
    "    }\n",
    "    study_design_items.append(imaging_object)\n",
    "if surface_validation_performed.upper() == \"YES\":\n",
    "    surface_exp_object={\n",
    "        'Name':'Surface validation experiment',\n",
    "        'Number_selected_surfaces':surface_validation_number_selected_surfaces,\n",
    "        'Feature_id':selected_surfaces_feature_id,\n",
    "        'Feature_id_images':selected_surfaces_feature_id.split(','),\n",
    "        'Surface_id':selected_surface_id \n",
    "    }\n",
    "    study_design_items.append(surface_exp_object)\n",
    "if qpcr_performed.upper() == 'YES':\n",
    "    qpcr_object={\n",
    "        'Name':\"qPCR experiment\",\n",
    "        'Type':qpcr_experiment_type,\n",
    "        'Cell_type':qpcr_cell_type,\n",
    "        'Time_point(s)':qpr_time,\n",
    "        'Read_outs':qpcr_read_outs,        \n",
    "    }\n",
    "    study_design_items.append(qpcr_object)\n",
    "if flow_cytometry_performed.upper() == \"YES\":\n",
    "    flow_object={\n",
    "        'Name':'Flow cytometry experiment',\n",
    "        'Machine':flow_machine,\n",
    "        'Cell_seeding_density':flow_seeding_density,\n",
    "        'Culture_time':flow_culture_time,\n",
    "        'Medium':flow_medium,\n",
    "        'Staining':flow_staining,\n",
    "        'Number_of_replicates':flow_replicates\n",
    "    }\n",
    "    study_design_items.append(flow_object)\n",
    "if histology_performed.upper() == \"YES\":\n",
    "    histology_object={\n",
    "        \"Name\":\"Histology experiment\",\n",
    "        \"Slide_scanner\":histology_slide_scanner,\n",
    "        \"Staining\":histology_staining\n",
    "    }\n",
    "    study_design_items.append(histology_object)\n",
    "if biomechenical_test_performed.upper() ==\"YES\":\n",
    "    biomechanical_object={\n",
    "        \"Name\":\"Biomechanical test\",\n",
    "        \"Type\":biomechanical_test_type,\n",
    "        \"Load_cell\":biomechanical_load_cell,\n",
    "        \"Force\":biomechanical_test_force\n",
    "    }\n",
    "    study_design_items.append(biomechanical_object)\n",
    "if animal_study_performed.upper() == \"YES\":\n",
    "    animal_object={\n",
    "        \"Name\":\"Animal experiment\",\n",
    "        \"Organism\":animal_organism,\n",
    "        \"Species\":animal_species,\n",
    "        \"Sex\":animal_sex,\n",
    "        \"Replicates\":animal_replicates,\n",
    "        \"Replicates_per_condition\":animal_replicates_per_surface\n",
    "    }\n",
    "    study_design_items.append(animal_object)\n",
    "if metabolic_activity_performed.upper() ==\"YES\":\n",
    "    metabolic_object={\n",
    "        'Type':metabolic_test_type,\n",
    "        'Cell_type':metabolic_test_cell_type,\n",
    "        'Culture_time':metabolic_activity_culture_time,\n",
    "        'Culture_medium':metabolic_activity_culture_medium\n",
    "        \n",
    "    }\n",
    "    study_desing_items.append(metabolic_object)\n",
    "if cytokine_assay_performed.upper()==\"YES\":\n",
    "    cytokine_object={\n",
    "        'Type':\"Cytokine polarization assay\",\n",
    "        'Cell_type':cytokine_cell_type,\n",
    "        'Cytokines_added':experiment_cytokines,\n",
    "        'Imaging':experiment_imaging,\n",
    "        'Aim':experiment_aim\n",
    "    }\n",
    "    study_design_items.append(cytokine_object)"
   ]
  },
  {
   "cell_type": "markdown",
   "metadata": {},
   "source": [
    "Create the json object for the study results"
   ]
  },
  {
   "cell_type": "code",
   "execution_count": 82,
   "metadata": {},
   "outputs": [],
   "source": [
    "study_results_items=[]"
   ]
  },
  {
   "cell_type": "code",
   "execution_count": 83,
   "metadata": {},
   "outputs": [],
   "source": [
    "if biomaterials_screen_performed.upper() =='YES':\n",
    "    screen_results_object={\n",
    "        'Name':'Biomaterials screen results',\n",
    "        'Description':screening_description\n",
    "    }\n",
    "    study_results_items.append(screen_results_object)\n",
    "if surface_validation_performed.upper() ==\"YES\":\n",
    "    surface_results_object={\n",
    "        'Name':'Surface validation results',\n",
    "        'Description':surface_validation_description\n",
    "    }\n",
    "    study_results_items.append(surface_results_object)\n",
    "if qpcr_performed.upper()== 'YES':\n",
    "    qpcr_results_object={\n",
    "        'Name':'qPCR results',\n",
    "        'Description':qpcr_result_description\n",
    "    }\n",
    "    study_results_items.append(qpcr_results_object)\n",
    "if histology_performed.upper()==\"YES\":\n",
    "    histology_results_object={\n",
    "        'Name':'Histology results',\n",
    "        'Description':histology_results_description\n",
    "    }\n",
    "    study_results_items.append(histology_results_object)\n",
    "if biomechenical_test_performed.upper() ==\"YES\":\n",
    "    biomechanical_results_object={\n",
    "        \"Name\":\"Biomechanical test results\",\n",
    "        \"Description\":biomechanical_test_description\n",
    "    }\n",
    "    study_results_items.append(biomechanical_results_object)\n",
    "if flow_cytometry_performed.upper() == \"YES\":\n",
    "    flow_results_object={\n",
    "        \"Name\":\"Flow cytometry results\",\n",
    "        \"Description\":flow_result_description\n",
    "    }\n",
    "    study_results_items.append(flow_results_object)\n",
    "if metabolic_activity_performed.upper() ==\"YES\":\n",
    "    metabolic_results_object={\n",
    "        'Name':'Metabolic activity test',\n",
    "        'Description':metabolic_activity_description\n",
    "    }\n",
    "    study_results_items.append(metabolic_results_object)\n",
    "if cytokine_assay_performed.upper()==\"YES\":\n",
    "    cytokine_results_object={\n",
    "        'Name':\"Cytokine polarization results\",\n",
    "        'Description':cytokine_polarization_description\n",
    "    }\n",
    "    study_results_items.append(cytokine_results_object)"
   ]
  },
  {
   "cell_type": "markdown",
   "metadata": {},
   "source": [
    "<h3> Create the data document to store in the database </h3>"
   ]
  },
  {
   "cell_type": "code",
   "execution_count": 85,
   "metadata": {},
   "outputs": [],
   "source": [
    "document={\n",
    "    'Study_type':Study_type,\n",
    "    'ID':ID,\n",
    "    'Name':Study_Name,\n",
    "    'Project':Project,\n",
    "    'Title':Title,\n",
    "    'Lead_author':Lead_author,\n",
    "    'Principal_investigator':Principal_investigator,\n",
    "    'DOI':DOI,\n",
    "    'Date':Date,\n",
    "    'Summary':Summary,\n",
    "    'Study_design':study_design_items,\n",
    "    'Study_results':study_results_items    \n",
    "}"
   ]
  },
  {
   "cell_type": "code",
   "execution_count": 86,
   "metadata": {},
   "outputs": [
    {
     "data": {
      "text/plain": [
       "{'Study_type': 'Biomaterials Screen',\n",
       " 'ID': 'BIS036',\n",
       " 'Name': 'Macrophage attachment and differentiation',\n",
       " 'Project': 'Monocyte attachment',\n",
       " 'Title': 'Immune modulation by design: using topography to control human monocyte attachment and macrophage differentiation',\n",
       " 'Lead_author': 'Matthew J. Vassey',\n",
       " 'Principal_investigator': 'Morgan R. Alexander',\n",
       " 'DOI': '10.1002/advs.201903392',\n",
       " 'Date': 'April 2020',\n",
       " 'Summary': 'Macrophages play a central role in orchestrating immune responses to foreign materials, which are often responsible for the failure of implanted medical devices. Material topography is known to influence macrophage attachment and phenotype, providing opportunities for the rational design of “immune-instructive” topographies to modulate macrophage function and thus foreign body responses to biomaterials. However, no generalizable understanding of the inter-relationship between topography and cell response exists. A high throughput screening approach is therefore utilized to investigate the relationship between topography and human monocyte–derived macrophage attachment and phenotype, using a diverse library of 2176 micropatterns generated by an algorithm. This reveals that micropillars 5–10 micrometer in diameter play a dominant role in driving macrophage attachment compared to the many other topographies screened, an observation that aligns with studies of the interaction of macrophages with particles. Combining the pillar size with the micropillar density is found to be key in modulation of cell phenotype from pro to anti-inflammatory states. Machine learning is used to successfully build a model that correlates cell attachment and phenotype with a selection of descriptors, illustrating that materials can potentially be designed to modulate inflammatory responses for future applications in the fight against foreign body rejection of medical devices.',\n",
       " 'Study_design': [{'Name': 'Cell culture',\n",
       "   'Cell_type': 'purified monocytes',\n",
       "   'Passage_number': 'N/A',\n",
       "   'Medium': {'Type': 'RPMI 1640 Medium',\n",
       "    'Medium': 'RPMI 1640 Medium',\n",
       "    'Serum': '10% Fetal Bovine Serum',\n",
       "    'Antibiotics': 'Penicillin and streptomycin',\n",
       "    'Medium_components': 'L-glutamine',\n",
       "    'Medium_components_concentration': '2 mM'}},\n",
       "  {'Name': 'Biomaterials screen',\n",
       "   'Type': 'TopoChip screen',\n",
       "   'Design': 'Surfaces',\n",
       "   'Feature_scale': 'micrometer',\n",
       "   'Base_material': 'Polystyrene',\n",
       "   'Surface_treatment': 'Oxygen-plasma treatment',\n",
       "   'Coating': 'None',\n",
       "   'Number_of_replicates': '9',\n",
       "   'Summary': 'Monocytes were isolated from peripheral blood mononuclear cells (PBMCs) from anonymous human blood samples obtained in the form of buffy coats, using CD14 magnetic beads (Miltenyi Biotec) and used for the TopoChip screening. These cells were at no point stimulated or exposed to any exogenous cytokines. Using oxygen plasma etched polystyrene TopoChips in a serum containing medium, high throughput screening was carried out using monocytes obtained from five independent donors.'},\n",
       "  {'Name': 'Imaging experiment',\n",
       "   'Type': 'Zeiss Axio Observer Z1 microscope equiped with Hamamatsu Flash 4.0 CMMOS camera.',\n",
       "   'Date': '2020',\n",
       "   'Labels': {'Label_1': {'First_antibody': 'None',\n",
       "     'Second_antibody': 'None',\n",
       "     'Target': 'Nucleus',\n",
       "     'Fluorescent dye': 'DAPI',\n",
       "     'Excitation_wavelength': '385 nm',\n",
       "     'Emission_wavelength': '461 nm'},\n",
       "    'Label_2': {'First_antibody': 'None',\n",
       "     'Second_antibody': 'None',\n",
       "     'Target': 'Plasma membrane',\n",
       "     'Fluorescent dye': 'CellMask',\n",
       "     'Excitation_wavelength': '556 nm',\n",
       "     'Emission_wavelength': '572 nm'},\n",
       "    'Label_3': {'First_antibody': 'None',\n",
       "     'Second_antibody': 'None',\n",
       "     'Target': 'None',\n",
       "     'Fluorescent dye': 'None',\n",
       "     'Excitation_wavelength': 'None',\n",
       "     'Emission_wavelength': 'None'}},\n",
       "   'Channel_names': 'DAPI, CellMask'},\n",
       "  {'Name': 'Animal experiment',\n",
       "   'Organism': 'Mice',\n",
       "   'Species': 'BALB/C mice',\n",
       "   'Sex': 'Female',\n",
       "   'Replicates': 'N/A',\n",
       "   'Replicates_per_condition': '1'},\n",
       "  {'Type': 'Cytokine polarization assay',\n",
       "   'Cell_type': 'Monocytes',\n",
       "   'Cytokines_added': 'MO--M-CSF,M1--CM-CSF,IFN-gamma,IL-4,M2--M-CSF',\n",
       "   'Imaging': 'Fluorescent imaging',\n",
       "   'Aim': 'Monocytes are exposed to various conditions to drive the desired polarization state.'}],\n",
       " 'Study_results': [{'Name': 'Biomaterials screen results',\n",
       "   'Description': 'Monocytes were isolated from peripheral blood mononuclear cells (PBMCs) from anonymous human blood samples obtained in the form of buffy coats, using CD14 magnetic beads (Miltenyi Biotec) and used for the TopoChip screening. These cells were at no point stimulated or exposed to any exogenous cytokines. Using oxygen plasma etched polystyrene TopoChips in a serum containing medium, high throughput screening was carried out using monocytes obtained from five independent donors. Overall, monocyte attachment was significantly higher in the presence of topographical features compared to the flat planar control surface. Amongst the patterned surfaces, there was clear differential attachment of monocytes to specific surface types ranging from over 100 cells (per TopoUnit area) on high attachment TopoUnits compared to <10 for low attachment topographies.'},\n",
       "  {'Name': 'Cytokine polarization results',\n",
       "   'Description': 'Overall, the proportion of the three potential phenotypes (M2/M0/M1) across the TopoChip indicated there was a range of phenotypic responses to different topographies, and no one predominant macrophage polarization state.'}]}"
      ]
     },
     "execution_count": 86,
     "metadata": {},
     "output_type": "execute_result"
    }
   ],
   "source": [
    "document"
   ]
  },
  {
   "cell_type": "markdown",
   "metadata": {},
   "source": [
    "<h5> write to json file </h5>"
   ]
  },
  {
   "cell_type": "markdown",
   "metadata": {},
   "source": [
    "Please give a new to save the json object"
   ]
  },
  {
   "cell_type": "code",
   "execution_count": 87,
   "metadata": {},
   "outputs": [],
   "source": [
    "file_name=\"Nothingham_MonocyteAttachment_BMA.json\""
   ]
  },
  {
   "cell_type": "code",
   "execution_count": 88,
   "metadata": {},
   "outputs": [],
   "source": [
    "import json"
   ]
  },
  {
   "cell_type": "code",
   "execution_count": 89,
   "metadata": {},
   "outputs": [],
   "source": [
    "with open(file_name, 'w') as outfile:\n",
    "    json.dump(document, outfile)"
   ]
  },
  {
   "cell_type": "code",
   "execution_count": null,
   "metadata": {},
   "outputs": [],
   "source": []
  }
 ],
 "metadata": {
  "kernelspec": {
   "display_name": "Python 3",
   "language": "python",
   "name": "python3"
  },
  "language_info": {
   "codemirror_mode": {
    "name": "ipython",
    "version": 3
   },
   "file_extension": ".py",
   "mimetype": "text/x-python",
   "name": "python",
   "nbconvert_exporter": "python",
   "pygments_lexer": "ipython3",
   "version": "3.8.5"
  }
 },
 "nbformat": 4,
 "nbformat_minor": 4
}
